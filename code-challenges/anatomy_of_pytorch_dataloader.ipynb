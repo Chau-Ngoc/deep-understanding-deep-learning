{
 "cells": [
  {
   "cell_type": "code",
   "id": "initial_id",
   "metadata": {
    "collapsed": true,
    "ExecuteTime": {
     "end_time": "2024-08-26T14:40:49.621010Z",
     "start_time": "2024-08-26T14:40:48.886574Z"
    }
   },
   "source": [
    "import numpy as np\n",
    "import torch\n",
    "from torch.utils.data import DataLoader, TensorDataset"
   ],
   "outputs": [],
   "execution_count": 1
  },
  {
   "metadata": {
    "ExecuteTime": {
     "end_time": "2024-08-26T14:40:49.645123Z",
     "start_time": "2024-08-26T14:40:49.638938Z"
    }
   },
   "cell_type": "code",
   "source": [
    "num_samples = 100\n",
    "num_features = 20\n",
    "\n",
    "data_array = np.random.randn(num_samples, num_features)\n",
    "data_array.shape"
   ],
   "id": "c2a73d5e6d81a157",
   "outputs": [
    {
     "data": {
      "text/plain": [
       "(100, 20)"
      ]
     },
     "execution_count": 2,
     "metadata": {},
     "output_type": "execute_result"
    }
   ],
   "execution_count": 2
  },
  {
   "metadata": {
    "ExecuteTime": {
     "end_time": "2024-08-26T14:40:49.756889Z",
     "start_time": "2024-08-26T14:40:49.753723Z"
    }
   },
   "cell_type": "code",
   "source": [
    "data_tensor = torch.tensor(data_array)\n",
    "data_tensor.shape"
   ],
   "id": "16da5fcd8cad42d6",
   "outputs": [
    {
     "data": {
      "text/plain": [
       "torch.Size([100, 20])"
      ]
     },
     "execution_count": 3,
     "metadata": {},
     "output_type": "execute_result"
    }
   ],
   "execution_count": 3
  },
  {
   "metadata": {
    "ExecuteTime": {
     "end_time": "2024-08-26T14:40:49.831044Z",
     "start_time": "2024-08-26T14:40:49.825825Z"
    }
   },
   "cell_type": "code",
   "source": [
    "dataset = TensorDataset(data_tensor)\n",
    "print(len(dataset.tensors))\n",
    "print(dataset.tensors[0].shape)"
   ],
   "id": "95fd5274c95368db",
   "outputs": [
    {
     "name": "stdout",
     "output_type": "stream",
     "text": [
      "1\n",
      "torch.Size([100, 20])\n"
     ]
    }
   ],
   "execution_count": 4
  },
  {
   "metadata": {
    "ExecuteTime": {
     "end_time": "2024-08-26T14:40:49.922774Z",
     "start_time": "2024-08-26T14:40:49.919785Z"
    }
   },
   "cell_type": "code",
   "source": [
    "labels = np.floor(np.linspace(0, 3.9, num_samples))\n",
    "labels_tensor = torch.tensor(labels).unsqueeze(dim=1)\n",
    "\n",
    "print(labels.shape)\n",
    "print(labels_tensor.shape)"
   ],
   "id": "eab259c9e99b46e",
   "outputs": [
    {
     "name": "stdout",
     "output_type": "stream",
     "text": [
      "(100,)\n",
      "torch.Size([100, 1])\n"
     ]
    }
   ],
   "execution_count": 5
  },
  {
   "metadata": {
    "ExecuteTime": {
     "end_time": "2024-08-26T14:40:49.997643Z",
     "start_time": "2024-08-26T14:40:49.993382Z"
    }
   },
   "cell_type": "code",
   "source": [
    "print(labels_tensor)"
   ],
   "id": "6fae94fec12c50b4",
   "outputs": [
    {
     "name": "stdout",
     "output_type": "stream",
     "text": [
      "tensor([[0.],\n",
      "        [0.],\n",
      "        [0.],\n",
      "        [0.],\n",
      "        [0.],\n",
      "        [0.],\n",
      "        [0.],\n",
      "        [0.],\n",
      "        [0.],\n",
      "        [0.],\n",
      "        [0.],\n",
      "        [0.],\n",
      "        [0.],\n",
      "        [0.],\n",
      "        [0.],\n",
      "        [0.],\n",
      "        [0.],\n",
      "        [0.],\n",
      "        [0.],\n",
      "        [0.],\n",
      "        [0.],\n",
      "        [0.],\n",
      "        [0.],\n",
      "        [0.],\n",
      "        [0.],\n",
      "        [0.],\n",
      "        [1.],\n",
      "        [1.],\n",
      "        [1.],\n",
      "        [1.],\n",
      "        [1.],\n",
      "        [1.],\n",
      "        [1.],\n",
      "        [1.],\n",
      "        [1.],\n",
      "        [1.],\n",
      "        [1.],\n",
      "        [1.],\n",
      "        [1.],\n",
      "        [1.],\n",
      "        [1.],\n",
      "        [1.],\n",
      "        [1.],\n",
      "        [1.],\n",
      "        [1.],\n",
      "        [1.],\n",
      "        [1.],\n",
      "        [1.],\n",
      "        [1.],\n",
      "        [1.],\n",
      "        [1.],\n",
      "        [2.],\n",
      "        [2.],\n",
      "        [2.],\n",
      "        [2.],\n",
      "        [2.],\n",
      "        [2.],\n",
      "        [2.],\n",
      "        [2.],\n",
      "        [2.],\n",
      "        [2.],\n",
      "        [2.],\n",
      "        [2.],\n",
      "        [2.],\n",
      "        [2.],\n",
      "        [2.],\n",
      "        [2.],\n",
      "        [2.],\n",
      "        [2.],\n",
      "        [2.],\n",
      "        [2.],\n",
      "        [2.],\n",
      "        [2.],\n",
      "        [2.],\n",
      "        [2.],\n",
      "        [2.],\n",
      "        [2.],\n",
      "        [3.],\n",
      "        [3.],\n",
      "        [3.],\n",
      "        [3.],\n",
      "        [3.],\n",
      "        [3.],\n",
      "        [3.],\n",
      "        [3.],\n",
      "        [3.],\n",
      "        [3.],\n",
      "        [3.],\n",
      "        [3.],\n",
      "        [3.],\n",
      "        [3.],\n",
      "        [3.],\n",
      "        [3.],\n",
      "        [3.],\n",
      "        [3.],\n",
      "        [3.],\n",
      "        [3.],\n",
      "        [3.],\n",
      "        [3.],\n",
      "        [3.]], dtype=torch.float64)\n"
     ]
    }
   ],
   "execution_count": 6
  },
  {
   "metadata": {
    "ExecuteTime": {
     "end_time": "2024-08-26T14:40:50.060373Z",
     "start_time": "2024-08-26T14:40:50.057780Z"
    }
   },
   "cell_type": "code",
   "source": [
    "print(data_tensor.dtype)\n",
    "print(labels_tensor.dtype)"
   ],
   "id": "8e81672afa74c22e",
   "outputs": [
    {
     "name": "stdout",
     "output_type": "stream",
     "text": [
      "torch.float64\n",
      "torch.float64\n"
     ]
    }
   ],
   "execution_count": 7
  },
  {
   "metadata": {
    "ExecuteTime": {
     "end_time": "2024-08-26T14:40:50.118229Z",
     "start_time": "2024-08-26T14:40:50.115213Z"
    }
   },
   "cell_type": "code",
   "source": [
    "dataset = TensorDataset(data_tensor, labels_tensor)\n",
    "print(len(dataset))\n",
    "print(len(dataset.tensors))\n",
    "print(dataset.tensors[0].shape)\n",
    "print(dataset.tensors[1].shape)"
   ],
   "id": "e2343db44b1debc9",
   "outputs": [
    {
     "name": "stdout",
     "output_type": "stream",
     "text": [
      "100\n",
      "2\n",
      "torch.Size([100, 20])\n",
      "torch.Size([100, 1])\n"
     ]
    }
   ],
   "execution_count": 8
  },
  {
   "metadata": {
    "ExecuteTime": {
     "end_time": "2024-08-26T14:40:50.259808Z",
     "start_time": "2024-08-26T14:40:50.255485Z"
    }
   },
   "cell_type": "code",
   "source": [
    "batch_size = 25\n",
    "dataloader = DataLoader(dataset, batch_size=batch_size, shuffle=True)\n",
    "\n",
    "print(len(dataloader))\n",
    "print(len(dataloader.dataset))"
   ],
   "id": "f1464a5ca37defd9",
   "outputs": [
    {
     "name": "stdout",
     "output_type": "stream",
     "text": [
      "4\n",
      "100\n"
     ]
    }
   ],
   "execution_count": 9
  },
  {
   "metadata": {},
   "cell_type": "markdown",
   "source": "The dataloader does not shuffle the data at creation but rather everytime you loop through it. Run the below cell to see the shuffling in action.",
   "id": "ce4dbb28565684cf"
  },
  {
   "metadata": {
    "ExecuteTime": {
     "end_time": "2024-08-26T14:40:50.391930Z",
     "start_time": "2024-08-26T14:40:50.383803Z"
    }
   },
   "cell_type": "code",
   "source": [
    "for X, y in dataloader:\n",
    "    print(y)\n",
    "    print(\"===============\")"
   ],
   "id": "d96e34cef2bb2133",
   "outputs": [
    {
     "name": "stdout",
     "output_type": "stream",
     "text": [
      "tensor([[1.],\n",
      "        [0.],\n",
      "        [0.],\n",
      "        [2.],\n",
      "        [2.],\n",
      "        [2.],\n",
      "        [2.],\n",
      "        [1.],\n",
      "        [0.],\n",
      "        [0.],\n",
      "        [0.],\n",
      "        [2.],\n",
      "        [1.],\n",
      "        [3.],\n",
      "        [3.],\n",
      "        [0.],\n",
      "        [2.],\n",
      "        [1.],\n",
      "        [1.],\n",
      "        [1.],\n",
      "        [3.],\n",
      "        [0.],\n",
      "        [3.],\n",
      "        [1.],\n",
      "        [1.]], dtype=torch.float64)\n",
      "===============\n",
      "tensor([[1.],\n",
      "        [3.],\n",
      "        [0.],\n",
      "        [0.],\n",
      "        [0.],\n",
      "        [1.],\n",
      "        [0.],\n",
      "        [2.],\n",
      "        [3.],\n",
      "        [0.],\n",
      "        [2.],\n",
      "        [3.],\n",
      "        [3.],\n",
      "        [2.],\n",
      "        [3.],\n",
      "        [1.],\n",
      "        [3.],\n",
      "        [1.],\n",
      "        [0.],\n",
      "        [2.],\n",
      "        [3.],\n",
      "        [1.],\n",
      "        [3.],\n",
      "        [2.],\n",
      "        [2.]], dtype=torch.float64)\n",
      "===============\n",
      "tensor([[2.],\n",
      "        [2.],\n",
      "        [0.],\n",
      "        [0.],\n",
      "        [1.],\n",
      "        [2.],\n",
      "        [0.],\n",
      "        [0.],\n",
      "        [3.],\n",
      "        [2.],\n",
      "        [2.],\n",
      "        [0.],\n",
      "        [3.],\n",
      "        [1.],\n",
      "        [2.],\n",
      "        [0.],\n",
      "        [0.],\n",
      "        [1.],\n",
      "        [2.],\n",
      "        [2.],\n",
      "        [0.],\n",
      "        [1.],\n",
      "        [0.],\n",
      "        [2.],\n",
      "        [2.]], dtype=torch.float64)\n",
      "===============\n",
      "tensor([[3.],\n",
      "        [2.],\n",
      "        [3.],\n",
      "        [1.],\n",
      "        [2.],\n",
      "        [1.],\n",
      "        [1.],\n",
      "        [3.],\n",
      "        [3.],\n",
      "        [1.],\n",
      "        [3.],\n",
      "        [0.],\n",
      "        [1.],\n",
      "        [3.],\n",
      "        [3.],\n",
      "        [1.],\n",
      "        [2.],\n",
      "        [1.],\n",
      "        [3.],\n",
      "        [2.],\n",
      "        [3.],\n",
      "        [0.],\n",
      "        [1.],\n",
      "        [0.],\n",
      "        [0.]], dtype=torch.float64)\n",
      "===============\n"
     ]
    }
   ],
   "execution_count": 10
  },
  {
   "metadata": {
    "ExecuteTime": {
     "end_time": "2024-08-26T14:40:50.476537Z",
     "start_time": "2024-08-26T14:40:50.474669Z"
    }
   },
   "cell_type": "code",
   "source": "",
   "id": "d801052da09b7a34",
   "outputs": [],
   "execution_count": null
  }
 ],
 "metadata": {
  "kernelspec": {
   "display_name": "Python 3",
   "language": "python",
   "name": "python3"
  },
  "language_info": {
   "codemirror_mode": {
    "name": "ipython",
    "version": 2
   },
   "file_extension": ".py",
   "mimetype": "text/x-python",
   "name": "python",
   "nbconvert_exporter": "python",
   "pygments_lexer": "ipython2",
   "version": "2.7.6"
  }
 },
 "nbformat": 4,
 "nbformat_minor": 5
}
