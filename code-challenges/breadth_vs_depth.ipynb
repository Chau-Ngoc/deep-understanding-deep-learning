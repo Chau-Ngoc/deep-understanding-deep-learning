{
 "cells": [
  {
   "cell_type": "code",
   "id": "initial_id",
   "metadata": {
    "collapsed": true,
    "ExecuteTime": {
     "end_time": "2024-04-19T09:31:30.148917Z",
     "start_time": "2024-04-19T09:31:29.448360Z"
    }
   },
   "source": [
    "import matplotlib.pyplot as plt\n",
    "import numpy as np\n",
    "import seaborn as sn\n",
    "import torch\n",
    "import torch.nn as nn"
   ],
   "outputs": [],
   "execution_count": 1
  },
  {
   "metadata": {
    "ExecuteTime": {
     "end_time": "2024-04-19T09:31:30.161432Z",
     "start_time": "2024-04-19T09:31:30.149979Z"
    }
   },
   "cell_type": "code",
   "source": [
    "iris = sn.load_dataset(\"iris\")\n",
    "iris.head()"
   ],
   "id": "e49d68aa7628314b",
   "outputs": [
    {
     "data": {
      "text/plain": [
       "   sepal_length  sepal_width  petal_length  petal_width species\n",
       "0           5.1          3.5           1.4          0.2  setosa\n",
       "1           4.9          3.0           1.4          0.2  setosa\n",
       "2           4.7          3.2           1.3          0.2  setosa\n",
       "3           4.6          3.1           1.5          0.2  setosa\n",
       "4           5.0          3.6           1.4          0.2  setosa"
      ],
      "text/html": [
       "<div>\n",
       "<style scoped>\n",
       "    .dataframe tbody tr th:only-of-type {\n",
       "        vertical-align: middle;\n",
       "    }\n",
       "\n",
       "    .dataframe tbody tr th {\n",
       "        vertical-align: top;\n",
       "    }\n",
       "\n",
       "    .dataframe thead th {\n",
       "        text-align: right;\n",
       "    }\n",
       "</style>\n",
       "<table border=\"1\" class=\"dataframe\">\n",
       "  <thead>\n",
       "    <tr style=\"text-align: right;\">\n",
       "      <th></th>\n",
       "      <th>sepal_length</th>\n",
       "      <th>sepal_width</th>\n",
       "      <th>petal_length</th>\n",
       "      <th>petal_width</th>\n",
       "      <th>species</th>\n",
       "    </tr>\n",
       "  </thead>\n",
       "  <tbody>\n",
       "    <tr>\n",
       "      <th>0</th>\n",
       "      <td>5.1</td>\n",
       "      <td>3.5</td>\n",
       "      <td>1.4</td>\n",
       "      <td>0.2</td>\n",
       "      <td>setosa</td>\n",
       "    </tr>\n",
       "    <tr>\n",
       "      <th>1</th>\n",
       "      <td>4.9</td>\n",
       "      <td>3.0</td>\n",
       "      <td>1.4</td>\n",
       "      <td>0.2</td>\n",
       "      <td>setosa</td>\n",
       "    </tr>\n",
       "    <tr>\n",
       "      <th>2</th>\n",
       "      <td>4.7</td>\n",
       "      <td>3.2</td>\n",
       "      <td>1.3</td>\n",
       "      <td>0.2</td>\n",
       "      <td>setosa</td>\n",
       "    </tr>\n",
       "    <tr>\n",
       "      <th>3</th>\n",
       "      <td>4.6</td>\n",
       "      <td>3.1</td>\n",
       "      <td>1.5</td>\n",
       "      <td>0.2</td>\n",
       "      <td>setosa</td>\n",
       "    </tr>\n",
       "    <tr>\n",
       "      <th>4</th>\n",
       "      <td>5.0</td>\n",
       "      <td>3.6</td>\n",
       "      <td>1.4</td>\n",
       "      <td>0.2</td>\n",
       "      <td>setosa</td>\n",
       "    </tr>\n",
       "  </tbody>\n",
       "</table>\n",
       "</div>"
      ]
     },
     "execution_count": 2,
     "metadata": {},
     "output_type": "execute_result"
    }
   ],
   "execution_count": 2
  },
  {
   "metadata": {
    "ExecuteTime": {
     "end_time": "2024-04-19T09:31:30.201502Z",
     "start_time": "2024-04-19T09:31:30.162332Z"
    }
   },
   "cell_type": "code",
   "source": [
    "data = torch.tensor(iris[iris.columns[0:4]].values)\n",
    "\n",
    "labels = torch.zeros(len(iris), dtype=torch.long)\n",
    "labels[iris.species == \"versicolor\"] = 1\n",
    "labels[iris.species == \"virginica\"] = 2\n",
    "\n",
    "labels"
   ],
   "id": "1da5d41b9bc696d8",
   "outputs": [
    {
     "data": {
      "text/plain": [
       "tensor([0, 0, 0, 0, 0, 0, 0, 0, 0, 0, 0, 0, 0, 0, 0, 0, 0, 0, 0, 0, 0, 0, 0, 0,\n",
       "        0, 0, 0, 0, 0, 0, 0, 0, 0, 0, 0, 0, 0, 0, 0, 0, 0, 0, 0, 0, 0, 0, 0, 0,\n",
       "        0, 0, 1, 1, 1, 1, 1, 1, 1, 1, 1, 1, 1, 1, 1, 1, 1, 1, 1, 1, 1, 1, 1, 1,\n",
       "        1, 1, 1, 1, 1, 1, 1, 1, 1, 1, 1, 1, 1, 1, 1, 1, 1, 1, 1, 1, 1, 1, 1, 1,\n",
       "        1, 1, 1, 1, 2, 2, 2, 2, 2, 2, 2, 2, 2, 2, 2, 2, 2, 2, 2, 2, 2, 2, 2, 2,\n",
       "        2, 2, 2, 2, 2, 2, 2, 2, 2, 2, 2, 2, 2, 2, 2, 2, 2, 2, 2, 2, 2, 2, 2, 2,\n",
       "        2, 2, 2, 2, 2, 2])"
      ]
     },
     "execution_count": 3,
     "metadata": {},
     "output_type": "execute_result"
    }
   ],
   "execution_count": 3
  },
  {
   "metadata": {},
   "cell_type": "markdown",
   "source": [
    "**Model architecture**\n",
    "\n",
    "Input layer -> *n* (hidden layer (can have *m* units) -> relu) -> output layer"
   ],
   "id": "f7a67855aabd8fd9"
  },
  {
   "metadata": {
    "ExecuteTime": {
     "end_time": "2024-04-19T09:31:30.206797Z",
     "start_time": "2024-04-19T09:31:30.202822Z"
    }
   },
   "cell_type": "code",
   "source": [
    "class SizableLinearRegression(nn.Module):\n",
    "    def __init__(self, n_hidden_layers, m_units_each_layer, *args, **kwargs):\n",
    "        super().__init__(*args, **kwargs)\n",
    "        self.layers = nn.ModuleDict()\n",
    "        self.n_layers = n_hidden_layers\n",
    "\n",
    "        self.layers[\"input\"] = nn.Linear(4, m_units_each_layer, dtype=torch.float64)\n",
    "\n",
    "        for i in range(self.n_layers):\n",
    "            self.layers[f\"hidden_{i}\"] = nn.Linear(\n",
    "                m_units_each_layer, m_units_each_layer, dtype=torch.float64\n",
    "            )\n",
    "\n",
    "        self.layers[\"output\"] = nn.Linear(m_units_each_layer, 3, dtype=torch.float64)\n",
    "\n",
    "    def forward(self, x):\n",
    "        x = self.layers[\"input\"](x)\n",
    "        relu = nn.ReLU()\n",
    "\n",
    "        for i in range(self.n_layers):\n",
    "            x = relu(self.layers[f\"hidden_{i}\"](x))\n",
    "\n",
    "        x = self.layers[\"output\"](x)\n",
    "        return x"
   ],
   "id": "f6785f29b83d0439",
   "outputs": [],
   "execution_count": 4
  },
  {
   "metadata": {
    "ExecuteTime": {
     "end_time": "2024-04-19T09:31:30.225130Z",
     "start_time": "2024-04-19T09:31:30.207726Z"
    }
   },
   "cell_type": "code",
   "source": [
    "torch.manual_seed(42)\n",
    "n_hidden_layers = 4\n",
    "m_units = 12\n",
    "smp_sizable_iris_ann = SizableLinearRegression(n_hidden_layers, m_units)\n",
    "smp_sizable_iris_ann.state_dict()"
   ],
   "id": "ef627473e0b37a5f",
   "outputs": [
    {
     "data": {
      "text/plain": [
       "OrderedDict([('layers.input.weight',\n",
       "              tensor([[-0.4418, -0.4371, -0.3764, -0.4474],\n",
       "                      [ 0.0262, -0.0232,  0.4552,  0.4288],\n",
       "                      [-0.4165, -0.3674, -0.3429, -0.1246],\n",
       "                      [ 0.3425,  0.3705, -0.1225,  0.1124],\n",
       "                      [-0.4119,  0.2012,  0.1234, -0.0627],\n",
       "                      [-0.4253,  0.1834, -0.1878, -0.1909],\n",
       "                      [-0.4687, -0.4596,  0.4319, -0.3479],\n",
       "                      [-0.2350, -0.3696, -0.2481, -0.2666],\n",
       "                      [-0.2743, -0.1824,  0.1144,  0.0978],\n",
       "                      [ 0.3490, -0.4675, -0.1908, -0.0677],\n",
       "                      [ 0.4343, -0.3777, -0.0723, -0.2118],\n",
       "                      [ 0.4814,  0.3456, -0.1157, -0.4007]], dtype=torch.float64)),\n",
       "             ('layers.input.bias',\n",
       "              tensor([ 0.1626,  0.0819,  0.2093, -0.0280, -0.4062,  0.1064, -0.0008,  0.4984,\n",
       "                      -0.2674, -0.1271,  0.1255, -0.2235], dtype=torch.float64)),\n",
       "             ('layers.hidden_0.weight',\n",
       "              tensor([[-0.2823,  0.1286, -0.1418,  0.0755, -0.0844, -0.0337,  0.0651,  0.2306,\n",
       "                        0.1038, -0.2053,  0.0331,  0.2712],\n",
       "                      [-0.1101, -0.2511,  0.0830, -0.2848,  0.0356,  0.0828, -0.2091, -0.1156,\n",
       "                        0.0784,  0.0084,  0.1034, -0.1920],\n",
       "                      [ 0.2262,  0.2745, -0.1539,  0.1257, -0.2819, -0.2332,  0.2477,  0.1301,\n",
       "                       -0.2380, -0.0025,  0.2545, -0.1193],\n",
       "                      [ 0.0328,  0.0601, -0.2550,  0.2665, -0.0768, -0.0759,  0.1738,  0.0305,\n",
       "                        0.1132,  0.0291, -0.0207, -0.0758],\n",
       "                      [ 0.0454,  0.0894, -0.0514, -0.1841, -0.2767, -0.2710, -0.1669,  0.1451,\n",
       "                        0.2427, -0.2335,  0.2661,  0.0421],\n",
       "                      [ 0.0794, -0.1761, -0.1322, -0.0656,  0.1797,  0.1251, -0.1188,  0.1595,\n",
       "                       -0.1513, -0.2826,  0.2065,  0.2175],\n",
       "                      [-0.0091, -0.0370, -0.2430,  0.2423, -0.0097,  0.1633,  0.1232, -0.1676,\n",
       "                       -0.2355,  0.0867, -0.0780, -0.1739],\n",
       "                      [-0.0847,  0.0257, -0.0648, -0.0077, -0.0413,  0.0970, -0.2145,  0.0709,\n",
       "                        0.1413, -0.0582,  0.0647,  0.1323],\n",
       "                      [ 0.0194,  0.1715,  0.1049, -0.0652, -0.1617,  0.2669, -0.0180, -0.1348,\n",
       "                        0.2387,  0.1152,  0.2642,  0.2828],\n",
       "                      [ 0.0043, -0.2028,  0.0877,  0.2724,  0.1539,  0.2098, -0.1075, -0.2295,\n",
       "                       -0.2653, -0.2690, -0.0444,  0.0825],\n",
       "                      [ 0.0022, -0.0613,  0.1573,  0.1680, -0.1360,  0.0851,  0.0988, -0.2591,\n",
       "                        0.1296, -0.1077,  0.1007, -0.0012],\n",
       "                      [-0.2562,  0.0530, -0.0964, -0.1841,  0.1485, -0.1260,  0.1461, -0.1818,\n",
       "                        0.2199, -0.1047, -0.2797, -0.1507]], dtype=torch.float64)),\n",
       "             ('layers.hidden_0.bias',\n",
       "              tensor([ 0.2695,  0.1937,  0.1811,  0.2030, -0.0773, -0.0953,  0.1771, -0.2879,\n",
       "                      -0.1636, -0.1134,  0.0249,  0.2229], dtype=torch.float64)),\n",
       "             ('layers.hidden_1.weight',\n",
       "              tensor([[-0.0470,  0.1815, -0.0299, -0.1677,  0.1681,  0.2286,  0.1997, -0.2414,\n",
       "                       -0.2110,  0.1102,  0.1303, -0.2516],\n",
       "                      [ 0.2375,  0.0415,  0.1579, -0.0573, -0.0005,  0.1018,  0.2065,  0.0473,\n",
       "                       -0.2761,  0.1727,  0.2467,  0.1286],\n",
       "                      [-0.2545,  0.0841,  0.0821, -0.2396,  0.0896, -0.1753,  0.2431,  0.1207,\n",
       "                       -0.0036,  0.2675, -0.2706,  0.1040],\n",
       "                      [-0.2148, -0.2562, -0.2187, -0.0987, -0.1472, -0.0179, -0.0085, -0.2786,\n",
       "                        0.0201,  0.0752,  0.2264,  0.0226],\n",
       "                      [ 0.2079, -0.2343, -0.0068,  0.1082, -0.1513, -0.1293,  0.0414, -0.2239,\n",
       "                        0.1525, -0.1059, -0.1563, -0.2278],\n",
       "                      [ 0.2359, -0.2159,  0.0740,  0.1636,  0.1333, -0.1651, -0.1767, -0.0144,\n",
       "                       -0.1052,  0.0634,  0.0258, -0.0946],\n",
       "                      [ 0.1943, -0.2734, -0.0205, -0.0063,  0.1074,  0.0984, -0.1617,  0.0313,\n",
       "                        0.2580, -0.2878,  0.1037,  0.1684],\n",
       "                      [ 0.1987, -0.1650, -0.1612, -0.0251, -0.2684,  0.0260, -0.0675, -0.0491,\n",
       "                        0.0239,  0.0950, -0.2809,  0.1032],\n",
       "                      [ 0.2415,  0.0023, -0.2383, -0.0836,  0.0206,  0.2348, -0.0675, -0.0015,\n",
       "                        0.1826, -0.0044, -0.2401, -0.1128],\n",
       "                      [ 0.0370, -0.1658, -0.1056,  0.1756, -0.0918, -0.0848, -0.2702, -0.2489,\n",
       "                       -0.0128,  0.1252, -0.1655, -0.0505],\n",
       "                      [ 0.2790, -0.2360, -0.2263, -0.0783,  0.1901,  0.0983,  0.1255,  0.0163,\n",
       "                       -0.2092, -0.1380,  0.0992,  0.1632],\n",
       "                      [-0.1694,  0.1507, -0.0444, -0.2360, -0.2860,  0.1095,  0.0143,  0.1009,\n",
       "                       -0.1183,  0.0972,  0.0528,  0.0411]], dtype=torch.float64)),\n",
       "             ('layers.hidden_1.bias',\n",
       "              tensor([ 0.2725, -0.0264,  0.0011, -0.0444, -0.2194,  0.1375,  0.0105, -0.1974,\n",
       "                       0.2773, -0.2587, -0.0616, -0.1049], dtype=torch.float64)),\n",
       "             ('layers.hidden_2.weight',\n",
       "              tensor([[-0.0467,  0.1720,  0.1699, -0.1374, -0.1128,  0.0929, -0.2705, -0.1509,\n",
       "                       -0.2878,  0.2412, -0.2454, -0.2525],\n",
       "                      [-0.0430,  0.0167,  0.0617, -0.0599, -0.1391, -0.0591,  0.0315, -0.2650,\n",
       "                        0.2269, -0.2346,  0.2688, -0.1784],\n",
       "                      [-0.2718,  0.0461,  0.1639, -0.1133, -0.1745, -0.0414,  0.1483,  0.0490,\n",
       "                       -0.0222, -0.2704, -0.2396, -0.1758],\n",
       "                      [-0.1603,  0.2628,  0.2623,  0.1310,  0.1983, -0.0573, -0.2872, -0.0482,\n",
       "                       -0.0025, -0.2281, -0.1052,  0.2096],\n",
       "                      [-0.1998, -0.2090,  0.1675,  0.0420,  0.2196, -0.0374, -0.1418, -0.2782,\n",
       "                        0.1004,  0.1462,  0.2003,  0.0426],\n",
       "                      [-0.2248, -0.2314, -0.1439,  0.0489, -0.2779, -0.1909, -0.0669,  0.0591,\n",
       "                        0.1430,  0.0796,  0.0038, -0.2453],\n",
       "                      [ 0.0655,  0.2685, -0.0980,  0.2416,  0.0460, -0.2832,  0.0559,  0.0646,\n",
       "                        0.1771, -0.1652,  0.1342,  0.2288],\n",
       "                      [-0.1430,  0.1830, -0.1102, -0.0929,  0.1119,  0.0477,  0.2309,  0.1381,\n",
       "                        0.0170,  0.1357, -0.2088,  0.2258],\n",
       "                      [ 0.2450,  0.1038,  0.2265, -0.1086, -0.0626, -0.2534,  0.1339,  0.0531,\n",
       "                       -0.2105, -0.1192, -0.2127, -0.1129],\n",
       "                      [-0.2838,  0.2271,  0.2310, -0.1507,  0.1014,  0.0413, -0.2458, -0.0505,\n",
       "                       -0.0331, -0.1384, -0.1818, -0.2704],\n",
       "                      [-0.2444, -0.1316,  0.0891,  0.0955, -0.0995, -0.1729,  0.0350,  0.1499,\n",
       "                        0.1935,  0.2456,  0.2382,  0.0879],\n",
       "                      [-0.0985, -0.2659,  0.0455,  0.0325, -0.1788, -0.1307, -0.1303,  0.0356,\n",
       "                       -0.1571,  0.1148,  0.0623,  0.2884]], dtype=torch.float64)),\n",
       "             ('layers.hidden_2.bias',\n",
       "              tensor([ 0.2869, -0.2810,  0.2549, -0.2576,  0.1615, -0.2514, -0.0666,  0.0921,\n",
       "                       0.2293,  0.2215,  0.0291,  0.2527], dtype=torch.float64)),\n",
       "             ('layers.hidden_3.weight',\n",
       "              tensor([[-0.0248,  0.2606,  0.1855, -0.0451, -0.2239,  0.0139,  0.2230,  0.2195,\n",
       "                       -0.2437,  0.0398,  0.1238,  0.0107],\n",
       "                      [ 0.2289, -0.0314, -0.1383,  0.0826,  0.2463,  0.0100,  0.0381, -0.0682,\n",
       "                        0.0521,  0.1201, -0.1184, -0.1341],\n",
       "                      [-0.1125,  0.1738, -0.0655, -0.0965, -0.0213,  0.2580,  0.0122, -0.0612,\n",
       "                        0.2629, -0.2017, -0.1220,  0.1660],\n",
       "                      [-0.2868, -0.2013, -0.1063,  0.2590,  0.1253, -0.1575,  0.0869,  0.2433,\n",
       "                       -0.2196, -0.2693, -0.2189,  0.0683],\n",
       "                      [-0.1695,  0.0874,  0.2045,  0.2220, -0.1097, -0.2271,  0.2205, -0.1251,\n",
       "                       -0.1703,  0.1837, -0.0762,  0.2573],\n",
       "                      [-0.1513, -0.2328, -0.1050,  0.0066, -0.0055,  0.2463,  0.0708,  0.1001,\n",
       "                       -0.1973,  0.2373,  0.1778,  0.1148],\n",
       "                      [ 0.2766,  0.0306,  0.0101,  0.0940, -0.2527,  0.1010,  0.0413, -0.2744,\n",
       "                        0.2879,  0.2475,  0.0065, -0.1775],\n",
       "                      [ 0.2540, -0.0332, -0.2373,  0.2579, -0.2381, -0.2625, -0.2308, -0.0370,\n",
       "                        0.2304,  0.1428,  0.1310, -0.1137],\n",
       "                      [-0.1814,  0.0203, -0.1322,  0.1850, -0.2152,  0.2834,  0.2540, -0.0672,\n",
       "                        0.2398,  0.1550, -0.0068, -0.1152],\n",
       "                      [ 0.1733,  0.0460, -0.0519,  0.1027, -0.2276,  0.0682, -0.2624,  0.1239,\n",
       "                       -0.1311,  0.1731,  0.1024,  0.1741],\n",
       "                      [-0.1601,  0.1788, -0.2813,  0.2853,  0.2024,  0.0924, -0.2663, -0.1244,\n",
       "                       -0.1888,  0.0534,  0.1954,  0.2621],\n",
       "                      [-0.1235, -0.0674,  0.0732,  0.1966, -0.0286, -0.2566,  0.1278, -0.2451,\n",
       "                       -0.2371,  0.2165, -0.2488,  0.0436]], dtype=torch.float64)),\n",
       "             ('layers.hidden_3.bias',\n",
       "              tensor([-0.1047, -0.1736, -0.0042,  0.2375, -0.0256,  0.1780, -0.0142,  0.0338,\n",
       "                      -0.0788, -0.1819,  0.2758, -0.0685], dtype=torch.float64)),\n",
       "             ('layers.output.weight',\n",
       "              tensor([[-0.0797, -0.1441,  0.0940, -0.0594,  0.2434, -0.2508,  0.2281, -0.1190,\n",
       "                        0.0497, -0.0259, -0.1814,  0.0288],\n",
       "                      [-0.2221, -0.0717, -0.2108, -0.0722,  0.1404, -0.2110, -0.0776, -0.1263,\n",
       "                        0.1686, -0.0355, -0.1844,  0.0709],\n",
       "                      [ 0.0023,  0.1256,  0.2579,  0.2125,  0.1663, -0.0288, -0.0103,  0.1014,\n",
       "                       -0.2260, -0.0721,  0.0350,  0.1828]], dtype=torch.float64)),\n",
       "             ('layers.output.bias',\n",
       "              tensor([ 0.1277, -0.1932, -0.1822], dtype=torch.float64))])"
      ]
     },
     "execution_count": 5,
     "metadata": {},
     "output_type": "execute_result"
    }
   ],
   "execution_count": 5
  },
  {
   "metadata": {
    "ExecuteTime": {
     "end_time": "2024-04-19T09:31:30.230535Z",
     "start_time": "2024-04-19T09:31:30.225986Z"
    }
   },
   "cell_type": "code",
   "source": [
    "torch.manual_seed(42)\n",
    "\n",
    "sample = torch.randn((10, 4), dtype=torch.float64)\n",
    "output = smp_sizable_iris_ann(sample)\n",
    "output"
   ],
   "id": "7fdc16e4c8234537",
   "outputs": [
    {
     "data": {
      "text/plain": [
       "tensor([[ 0.0623, -0.2837, -0.1508],\n",
       "        [ 0.0704, -0.2850, -0.1373],\n",
       "        [ 0.0637, -0.2824, -0.1520],\n",
       "        [ 0.0673, -0.2811, -0.1564],\n",
       "        [ 0.0512, -0.2844, -0.1492],\n",
       "        [ 0.0612, -0.2845, -0.1491],\n",
       "        [ 0.0631, -0.2882, -0.1462],\n",
       "        [ 0.0728, -0.2782, -0.1528],\n",
       "        [ 0.0587, -0.2911, -0.1409],\n",
       "        [ 0.0701, -0.2799, -0.1522]], dtype=torch.float64,\n",
       "       grad_fn=<AddmmBackward0>)"
      ]
     },
     "execution_count": 6,
     "metadata": {},
     "output_type": "execute_result"
    }
   ],
   "execution_count": 6
  },
  {
   "metadata": {
    "ExecuteTime": {
     "end_time": "2024-04-19T09:31:30.234633Z",
     "start_time": "2024-04-19T09:31:30.231650Z"
    }
   },
   "cell_type": "code",
   "source": [
    "data.dtype"
   ],
   "id": "7c37c7dc66fab07c",
   "outputs": [
    {
     "data": {
      "text/plain": [
       "torch.float64"
      ]
     },
     "execution_count": 7,
     "metadata": {},
     "output_type": "execute_result"
    }
   ],
   "execution_count": 7
  },
  {
   "metadata": {
    "ExecuteTime": {
     "end_time": "2024-04-19T09:31:30.238404Z",
     "start_time": "2024-04-19T09:31:30.235461Z"
    }
   },
   "cell_type": "code",
   "source": [
    "def train_the_model(model, loss_fn, optimizer, data, epochs):\n",
    "    for _ in range(epochs):\n",
    "        y_hat = model(data)\n",
    "\n",
    "        loss = loss_fn(y_hat, labels)\n",
    "\n",
    "        optimizer.zero_grad()\n",
    "        loss.backward()\n",
    "        optimizer.step()\n",
    "\n",
    "    y_preds = model(data)\n",
    "    matches = (y_preds.argmax(dim=1) == labels).float()\n",
    "    model_acc = torch.mean(matches) * 100\n",
    "\n",
    "    params_count = sum(\n",
    "        param.numel() for param in model.parameters() if param.requires_grad\n",
    "    )\n",
    "    return model_acc, params_count"
   ],
   "id": "b072b796815cd8d4",
   "outputs": [],
   "execution_count": 8
  },
  {
   "metadata": {
    "ExecuteTime": {
     "end_time": "2024-04-19T09:32:24.316967Z",
     "start_time": "2024-04-19T09:31:43.088182Z"
    }
   },
   "cell_type": "code",
   "source": [
    "layers = range(1, 6)\n",
    "units = range(10, 101, 10)\n",
    "\n",
    "accuracies = np.zeros((len(layers), len(units)))\n",
    "total_params = np.zeros((len(layers), len(units)))\n",
    "\n",
    "for layer_index, n_layers in enumerate(layers):\n",
    "    for unit_index, n_units in enumerate(units):\n",
    "        iris_sizable_ann = SizableLinearRegression(n_layers, n_units)\n",
    "        loss_fn = nn.CrossEntropyLoss()\n",
    "        optimizer = torch.optim.SGD(params=iris_sizable_ann.parameters(), lr=0.01)\n",
    "\n",
    "        acc, params_count = train_the_model(\n",
    "            iris_sizable_ann, loss_fn, optimizer, data, epochs=1000\n",
    "        )\n",
    "\n",
    "        accuracies[layer_index, unit_index] = acc\n",
    "        total_params[layer_index, unit_index] = params_count"
   ],
   "id": "26772477fd32dd46",
   "outputs": [],
   "execution_count": 9
  },
  {
   "metadata": {
    "ExecuteTime": {
     "end_time": "2024-04-19T09:34:31.367103Z",
     "start_time": "2024-04-19T09:34:31.363627Z"
    }
   },
   "cell_type": "code",
   "source": [
    "total_params"
   ],
   "id": "5ae4a6b1bdf4abec",
   "outputs": [
    {
     "data": {
      "text/plain": [
       "array([[  193.,   583.,  1173.,  1963.,  2953.,  4143.,  5533.,  7123.,\n",
       "         8913., 10903.],\n",
       "       [  303.,  1003.,  2103.,  3603.,  5503.,  7803., 10503., 13603.,\n",
       "        17103., 21003.],\n",
       "       [  413.,  1423.,  3033.,  5243.,  8053., 11463., 15473., 20083.,\n",
       "        25293., 31103.],\n",
       "       [  523.,  1843.,  3963.,  6883., 10603., 15123., 20443., 26563.,\n",
       "        33483., 41203.],\n",
       "       [  633.,  2263.,  4893.,  8523., 13153., 18783., 25413., 33043.,\n",
       "        41673., 51303.]])"
      ]
     },
     "execution_count": 10,
     "metadata": {},
     "output_type": "execute_result"
    }
   ],
   "execution_count": 10
  },
  {
   "metadata": {
    "ExecuteTime": {
     "end_time": "2024-04-19T09:34:34.363889Z",
     "start_time": "2024-04-19T09:34:34.360469Z"
    }
   },
   "cell_type": "code",
   "source": [
    "accuracies"
   ],
   "id": "b139a65a1bb00603",
   "outputs": [
    {
     "data": {
      "text/plain": [
       "array([[98.        , 98.        , 98.        , 98.        , 98.        ,\n",
       "        98.        , 98.        , 98.        , 98.        , 98.        ],\n",
       "       [98.        , 98.        , 98.        , 98.66667175, 98.        ,\n",
       "        98.        , 98.        , 98.        , 98.        , 98.        ],\n",
       "       [94.        , 98.        , 98.66667175, 97.33333588, 98.        ,\n",
       "        98.        , 98.        , 98.        , 98.        , 94.66666412],\n",
       "       [96.66666412, 98.        , 94.        , 98.        , 95.33332825,\n",
       "        98.66667175, 98.        , 98.        , 98.66667175, 98.        ],\n",
       "       [46.        , 66.66667175, 68.66666412, 98.        , 96.66666412,\n",
       "        91.33333588, 96.        , 92.66666412, 97.33333588, 93.33333588]])"
      ]
     },
     "execution_count": 11,
     "metadata": {},
     "output_type": "execute_result"
    }
   ],
   "execution_count": 11
  },
  {
   "metadata": {
    "ExecuteTime": {
     "end_time": "2024-04-19T09:34:56.998882Z",
     "start_time": "2024-04-19T09:34:56.995221Z"
    }
   },
   "cell_type": "code",
   "source": [
    "accuracies.transpose()"
   ],
   "id": "6f103d4d37f5a566",
   "outputs": [
    {
     "data": {
      "text/plain": [
       "array([[98.        , 98.        , 94.        , 96.66666412, 46.        ],\n",
       "       [98.        , 98.        , 98.        , 98.        , 66.66667175],\n",
       "       [98.        , 98.        , 98.66667175, 94.        , 68.66666412],\n",
       "       [98.        , 98.66667175, 97.33333588, 98.        , 98.        ],\n",
       "       [98.        , 98.        , 98.        , 95.33332825, 96.66666412],\n",
       "       [98.        , 98.        , 98.        , 98.66667175, 91.33333588],\n",
       "       [98.        , 98.        , 98.        , 98.        , 96.        ],\n",
       "       [98.        , 98.        , 98.        , 98.        , 92.66666412],\n",
       "       [98.        , 98.        , 98.        , 98.66667175, 97.33333588],\n",
       "       [98.        , 98.        , 94.66666412, 98.        , 93.33333588]])"
      ]
     },
     "execution_count": 12,
     "metadata": {},
     "output_type": "execute_result"
    }
   ],
   "execution_count": 12
  },
  {
   "metadata": {
    "ExecuteTime": {
     "end_time": "2024-04-19T09:34:58.541049Z",
     "start_time": "2024-04-19T09:34:58.537778Z"
    }
   },
   "cell_type": "code",
   "source": [
    "accuracies.transpose().shape"
   ],
   "id": "e6301defc499ec03",
   "outputs": [
    {
     "data": {
      "text/plain": [
       "(10, 5)"
      ]
     },
     "execution_count": 13,
     "metadata": {},
     "output_type": "execute_result"
    }
   ],
   "execution_count": 13
  },
  {
   "metadata": {
    "ExecuteTime": {
     "end_time": "2024-04-19T09:35:00.104004Z",
     "start_time": "2024-04-19T09:34:59.927268Z"
    }
   },
   "cell_type": "code",
   "source": [
    "fig, ax = plt.subplots(figsize=(12, 10))\n",
    "\n",
    "ax.plot(units, accuracies.transpose(), \"o-\")\n",
    "ax.set_xlabel(\"Number of units per layer\")\n",
    "ax.set_ylabel(\"Accuracy\")\n",
    "\n",
    "ax.legend(layers)\n",
    "ax.grid(True)\n",
    "\n",
    "plt.show()"
   ],
   "id": "e5346df4d1eefba1",
   "outputs": [
    {
     "data": {
      "text/plain": [
       "<Figure size 1200x1000 with 1 Axes>"
      ],
      "image/png": "[encoded data removed]"
     },
     "metadata": {},
     "output_type": "display_data"
    }
   ],
   "execution_count": 14
  },
  {
   "metadata": {
    "ExecuteTime": {
     "end_time": "2024-04-19T09:36:19.999366Z",
     "start_time": "2024-04-19T09:36:19.994856Z"
    }
   },
   "cell_type": "code",
   "source": [
    "accuracies.shape"
   ],
   "id": "c5500cba914dd180",
   "outputs": [
    {
     "data": {
      "text/plain": [
       "(5, 10)"
      ]
     },
     "execution_count": 15,
     "metadata": {},
     "output_type": "execute_result"
    }
   ],
   "execution_count": 15
  },
  {
   "metadata": {
    "ExecuteTime": {
     "end_time": "2024-04-19T09:36:23.075799Z",
     "start_time": "2024-04-19T09:36:23.072067Z"
    }
   },
   "cell_type": "code",
   "source": [
    "accuracies.flatten()"
   ],
   "id": "f19795fb597e60c0",
   "outputs": [
    {
     "data": {
      "text/plain": [
       "array([98.        , 98.        , 98.        , 98.        , 98.        ,\n",
       "       98.        , 98.        , 98.        , 98.        , 98.        ,\n",
       "       98.        , 98.        , 98.        , 98.66667175, 98.        ,\n",
       "       98.        , 98.        , 98.        , 98.        , 98.        ,\n",
       "       94.        , 98.        , 98.66667175, 97.33333588, 98.        ,\n",
       "       98.        , 98.        , 98.        , 98.        , 94.66666412,\n",
       "       96.66666412, 98.        , 94.        , 98.        , 95.33332825,\n",
       "       98.66667175, 98.        , 98.        , 98.66667175, 98.        ,\n",
       "       46.        , 66.66667175, 68.66666412, 98.        , 96.66666412,\n",
       "       91.33333588, 96.        , 92.66666412, 97.33333588, 93.33333588])"
      ]
     },
     "execution_count": 16,
     "metadata": {},
     "output_type": "execute_result"
    }
   ],
   "execution_count": 16
  },
  {
   "metadata": {
    "ExecuteTime": {
     "end_time": "2024-04-19T09:36:40.279419Z",
     "start_time": "2024-04-19T09:36:40.276080Z"
    }
   },
   "cell_type": "code",
   "source": [
    "accuracies.flatten().shape"
   ],
   "id": "7c3d2712f05db243",
   "outputs": [
    {
     "data": {
      "text/plain": [
       "(50,)"
      ]
     },
     "execution_count": 17,
     "metadata": {},
     "output_type": "execute_result"
    }
   ],
   "execution_count": 17
  },
  {
   "metadata": {
    "ExecuteTime": {
     "end_time": "2024-04-19T09:36:50.193551Z",
     "start_time": "2024-04-19T09:36:50.190272Z"
    }
   },
   "cell_type": "code",
   "source": [
    "total_params.flatten().shape"
   ],
   "id": "8cffc57c9c6d72df",
   "outputs": [
    {
     "data": {
      "text/plain": [
       "(50,)"
      ]
     },
     "execution_count": 18,
     "metadata": {},
     "output_type": "execute_result"
    }
   ],
   "execution_count": 18
  },
  {
   "metadata": {
    "ExecuteTime": {
     "end_time": "2024-04-19T10:08:17.335619Z",
     "start_time": "2024-04-19T10:08:16.971277Z"
    }
   },
   "cell_type": "code",
   "source": [
    "acc_params_corr = np.corrcoef(accuracies.transpose(), total_params.transpose())\n",
    "\n",
    "fig, ax = plt.subplots(figsize=(12, 10))\n",
    "sn.heatmap(acc_params_corr, ax=ax)"
   ],
   "id": "787f1652cb0a4b46",
   "outputs": [
    {
     "data": {
      "text/plain": [
       "<Axes: >"
      ]
     },
     "execution_count": 22,
     "metadata": {},
     "output_type": "execute_result"
    },
    {
     "data": {
      "text/plain": [
       "<Figure size 1200x1000 with 2 Axes>"
      ],
      "image/png": "[encoded data removed]"
     },
     "metadata": {},
     "output_type": "display_data"
    }
   ],
   "execution_count": 22
  },
  {
   "metadata": {
    "ExecuteTime": {
     "end_time": "2024-04-19T10:10:48.567622Z",
     "start_time": "2024-04-19T10:10:48.430408Z"
    }
   },
   "cell_type": "code",
   "source": [
    "fig, ax = plt.subplots(figsize=(12, 10))\n",
    "ax.plot(accuracies.flatten(), total_params.flatten(), \"ro\")\n",
    "\n",
    "ax.set_xlabel(\"Accuracies\")\n",
    "ax.set_ylabel(\"Total params\")\n",
    "ax.grid(True)\n",
    "\n",
    "plt.show()"
   ],
   "id": "2d461d55370c35ca",
   "outputs": [
    {
     "data": {
      "text/plain": [
       "<Figure size 1200x1000 with 1 Axes>"
      ],
      "image/png": "[encoded data removed]"
     },
     "metadata": {},
     "output_type": "display_data"
    }
   ],
   "execution_count": 24
  },
  {
   "metadata": {},
   "cell_type": "code",
   "outputs": [],
   "execution_count": null,
   "source": "",
   "id": "dcfe381a6484d598"
  }
 ],
 "metadata": {
  "kernelspec": {
   "display_name": "Python 3",
   "language": "python",
   "name": "python3"
  },
  "language_info": {
   "codemirror_mode": {
    "name": "ipython",
    "version": 2
   },
   "file_extension": ".py",
   "mimetype": "text/x-python",
   "name": "python",
   "nbconvert_exporter": "python",
   "pygments_lexer": "ipython2",
   "version": "2.7.6"
  }
 },
 "nbformat": 4,
 "nbformat_minor": 5
}
