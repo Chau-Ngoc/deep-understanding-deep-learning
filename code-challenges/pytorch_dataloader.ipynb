{
 "cells": [
  {
   "cell_type": "code",
   "id": "initial_id",
   "metadata": {
    "collapsed": true,
    "ExecuteTime": {
     "end_time": "2024-05-01T14:03:26.125067Z",
     "start_time": "2024-05-01T14:03:25.316731Z"
    }
   },
   "source": [
    "import matplotlib.pyplot as plt\n",
    "import numpy as np\n",
    "import seaborn as sn\n",
    "import torch\n",
    "import torch.nn as nn\n",
    "from sklearn.model_selection import train_test_split\n",
    "from torch.utils.data import DataLoader, TensorDataset"
   ],
   "outputs": [],
   "execution_count": 1
  },
  {
   "metadata": {
    "ExecuteTime": {
     "end_time": "2024-05-01T14:03:26.137890Z",
     "start_time": "2024-05-01T14:03:26.126240Z"
    }
   },
   "cell_type": "code",
   "source": [
    "iris = sn.load_dataset(\"iris\")\n",
    "iris.head()"
   ],
   "id": "6f81854857dc7593",
   "outputs": [
    {
     "data": {
      "text/plain": [
       "   sepal_length  sepal_width  petal_length  petal_width species\n",
       "0           5.1          3.5           1.4          0.2  setosa\n",
       "1           4.9          3.0           1.4          0.2  setosa\n",
       "2           4.7          3.2           1.3          0.2  setosa\n",
       "3           4.6          3.1           1.5          0.2  setosa\n",
       "4           5.0          3.6           1.4          0.2  setosa"
      ],
      "text/html": [
       "<div>\n",
       "<style scoped>\n",
       "    .dataframe tbody tr th:only-of-type {\n",
       "        vertical-align: middle;\n",
       "    }\n",
       "\n",
       "    .dataframe tbody tr th {\n",
       "        vertical-align: top;\n",
       "    }\n",
       "\n",
       "    .dataframe thead th {\n",
       "        text-align: right;\n",
       "    }\n",
       "</style>\n",
       "<table border=\"1\" class=\"dataframe\">\n",
       "  <thead>\n",
       "    <tr style=\"text-align: right;\">\n",
       "      <th></th>\n",
       "      <th>sepal_length</th>\n",
       "      <th>sepal_width</th>\n",
       "      <th>petal_length</th>\n",
       "      <th>petal_width</th>\n",
       "      <th>species</th>\n",
       "    </tr>\n",
       "  </thead>\n",
       "  <tbody>\n",
       "    <tr>\n",
       "      <th>0</th>\n",
       "      <td>5.1</td>\n",
       "      <td>3.5</td>\n",
       "      <td>1.4</td>\n",
       "      <td>0.2</td>\n",
       "      <td>setosa</td>\n",
       "    </tr>\n",
       "    <tr>\n",
       "      <th>1</th>\n",
       "      <td>4.9</td>\n",
       "      <td>3.0</td>\n",
       "      <td>1.4</td>\n",
       "      <td>0.2</td>\n",
       "      <td>setosa</td>\n",
       "    </tr>\n",
       "    <tr>\n",
       "      <th>2</th>\n",
       "      <td>4.7</td>\n",
       "      <td>3.2</td>\n",
       "      <td>1.3</td>\n",
       "      <td>0.2</td>\n",
       "      <td>setosa</td>\n",
       "    </tr>\n",
       "    <tr>\n",
       "      <th>3</th>\n",
       "      <td>4.6</td>\n",
       "      <td>3.1</td>\n",
       "      <td>1.5</td>\n",
       "      <td>0.2</td>\n",
       "      <td>setosa</td>\n",
       "    </tr>\n",
       "    <tr>\n",
       "      <th>4</th>\n",
       "      <td>5.0</td>\n",
       "      <td>3.6</td>\n",
       "      <td>1.4</td>\n",
       "      <td>0.2</td>\n",
       "      <td>setosa</td>\n",
       "    </tr>\n",
       "  </tbody>\n",
       "</table>\n",
       "</div>"
      ]
     },
     "execution_count": 2,
     "metadata": {},
     "output_type": "execute_result"
    }
   ],
   "execution_count": 2
  },
  {
   "metadata": {
    "ExecuteTime": {
     "end_time": "2024-05-01T14:03:26.144150Z",
     "start_time": "2024-05-01T14:03:26.138716Z"
    }
   },
   "cell_type": "code",
   "source": [
    "data = torch.tensor(iris[iris.columns[0:4]].values)\n",
    "\n",
    "labels = torch.zeros(len(iris), dtype=torch.long)\n",
    "labels[iris.species == \"versicolor\"] = 1\n",
    "labels[iris.species == \"virginica\"] = 2\n",
    "\n",
    "labels"
   ],
   "id": "1552912fd82d091b",
   "outputs": [
    {
     "data": {
      "text/plain": [
       "tensor([0, 0, 0, 0, 0, 0, 0, 0, 0, 0, 0, 0, 0, 0, 0, 0, 0, 0, 0, 0, 0, 0, 0, 0,\n",
       "        0, 0, 0, 0, 0, 0, 0, 0, 0, 0, 0, 0, 0, 0, 0, 0, 0, 0, 0, 0, 0, 0, 0, 0,\n",
       "        0, 0, 1, 1, 1, 1, 1, 1, 1, 1, 1, 1, 1, 1, 1, 1, 1, 1, 1, 1, 1, 1, 1, 1,\n",
       "        1, 1, 1, 1, 1, 1, 1, 1, 1, 1, 1, 1, 1, 1, 1, 1, 1, 1, 1, 1, 1, 1, 1, 1,\n",
       "        1, 1, 1, 1, 2, 2, 2, 2, 2, 2, 2, 2, 2, 2, 2, 2, 2, 2, 2, 2, 2, 2, 2, 2,\n",
       "        2, 2, 2, 2, 2, 2, 2, 2, 2, 2, 2, 2, 2, 2, 2, 2, 2, 2, 2, 2, 2, 2, 2, 2,\n",
       "        2, 2, 2, 2, 2, 2])"
      ]
     },
     "execution_count": 3,
     "metadata": {},
     "output_type": "execute_result"
    }
   ],
   "execution_count": 3
  },
  {
   "metadata": {},
   "cell_type": "markdown",
   "source": [
    "# Pytorch's DataLoader\n",
    "Basically, there are a few steps we should follow to create a DataLoader:\n",
    "1. Split our data into train and test sets.\n",
    "2. Convert those sets into pytorch's tensors.\n",
    "3. Construct a `TensorDataset` using the created tensors from the above step. A TensorDataset for train data and another for test data.\n",
    "4. Wrap the `TensorDataset`s in `DataLoader`s."
   ],
   "id": "2cf7026dd07b03a8"
  },
  {
   "metadata": {},
   "cell_type": "markdown",
   "source": [
    "## Split our data into train and test sets\n",
    "Note: Our data has been converted to pytorch's Tensor from previous code cell"
   ],
   "id": "9476b31825ec659"
  },
  {
   "metadata": {
    "ExecuteTime": {
     "end_time": "2024-05-01T14:03:26.149239Z",
     "start_time": "2024-05-01T14:03:26.145415Z"
    }
   },
   "cell_type": "code",
   "source": [
    "train_data, test_data, train_labels, test_labels = train_test_split(\n",
    "    data, labels, train_size=0.8\n",
    ")"
   ],
   "id": "3bf723d82db9e4b3",
   "outputs": [],
   "execution_count": 4
  },
  {
   "metadata": {
    "ExecuteTime": {
     "end_time": "2024-05-01T14:03:26.153564Z",
     "start_time": "2024-05-01T14:03:26.150195Z"
    }
   },
   "cell_type": "code",
   "source": [
    "print(f\"Shape of train data: {train_data.shape}\")\n",
    "print(f\"Shape of test data: {test_data.shape}\")\n",
    "print(f\"Shape of train labels: {train_labels.shape}\")\n",
    "print(f\"Shape of test labels: {test_labels.shape}\")"
   ],
   "id": "1d1ea41d41805f0c",
   "outputs": [
    {
     "name": "stdout",
     "output_type": "stream",
     "text": [
      "Shape of train data: torch.Size([120, 4])\n",
      "Shape of test data: torch.Size([30, 4])\n",
      "Shape of train labels: torch.Size([120])\n",
      "Shape of test labels: torch.Size([30])\n"
     ]
    }
   ],
   "execution_count": 5
  },
  {
   "metadata": {},
   "cell_type": "markdown",
   "source": "## Create TensorDatasets",
   "id": "75fd8ea0bfa02df0"
  },
  {
   "metadata": {
    "ExecuteTime": {
     "end_time": "2024-05-01T14:03:26.157616Z",
     "start_time": "2024-05-01T14:03:26.154344Z"
    }
   },
   "cell_type": "code",
   "source": [
    "train_data = TensorDataset(train_data, train_labels)\n",
    "test_data = TensorDataset(test_data, test_labels)"
   ],
   "id": "401eb5137392c5e0",
   "outputs": [],
   "execution_count": 6
  },
  {
   "metadata": {
    "ExecuteTime": {
     "end_time": "2024-05-01T14:03:26.163486Z",
     "start_time": "2024-05-01T14:03:26.158426Z"
    }
   },
   "cell_type": "code",
   "source": [
    "test_data.tensors"
   ],
   "id": "d2e4f80436d6b5f1",
   "outputs": [
    {
     "data": {
      "text/plain": [
       "(tensor([[4.4000, 3.0000, 1.3000, 0.2000],\n",
       "         [6.9000, 3.1000, 4.9000, 1.5000],\n",
       "         [6.3000, 3.4000, 5.6000, 2.4000],\n",
       "         [4.9000, 2.4000, 3.3000, 1.0000],\n",
       "         [6.0000, 2.2000, 5.0000, 1.5000],\n",
       "         [6.1000, 3.0000, 4.9000, 1.8000],\n",
       "         [7.2000, 3.0000, 5.8000, 1.6000],\n",
       "         [5.9000, 3.0000, 5.1000, 1.8000],\n",
       "         [7.2000, 3.2000, 6.0000, 1.8000],\n",
       "         [5.7000, 2.9000, 4.2000, 1.3000],\n",
       "         [5.6000, 3.0000, 4.1000, 1.3000],\n",
       "         [6.7000, 3.1000, 4.4000, 1.4000],\n",
       "         [6.6000, 2.9000, 4.6000, 1.3000],\n",
       "         [7.1000, 3.0000, 5.9000, 2.1000],\n",
       "         [5.8000, 2.8000, 5.1000, 2.4000],\n",
       "         [5.7000, 2.8000, 4.1000, 1.3000],\n",
       "         [5.0000, 3.5000, 1.6000, 0.6000],\n",
       "         [5.7000, 2.8000, 4.5000, 1.3000],\n",
       "         [5.4000, 3.9000, 1.3000, 0.4000],\n",
       "         [6.0000, 3.0000, 4.8000, 1.8000],\n",
       "         [6.9000, 3.1000, 5.4000, 2.1000],\n",
       "         [6.9000, 3.1000, 5.1000, 2.3000],\n",
       "         [4.9000, 3.1000, 1.5000, 0.2000],\n",
       "         [4.9000, 2.5000, 4.5000, 1.7000],\n",
       "         [5.8000, 2.7000, 5.1000, 1.9000],\n",
       "         [5.8000, 4.0000, 1.2000, 0.2000],\n",
       "         [7.7000, 2.8000, 6.7000, 2.0000],\n",
       "         [6.7000, 3.0000, 5.2000, 2.3000],\n",
       "         [6.5000, 3.2000, 5.1000, 2.0000],\n",
       "         [4.8000, 3.1000, 1.6000, 0.2000]], dtype=torch.float64),\n",
       " tensor([0, 1, 2, 1, 2, 2, 2, 2, 2, 1, 1, 1, 1, 2, 2, 1, 0, 1, 0, 2, 2, 2, 0, 2,\n",
       "         2, 0, 2, 2, 2, 0]))"
      ]
     },
     "execution_count": 7,
     "metadata": {},
     "output_type": "execute_result"
    }
   ],
   "execution_count": 7
  },
  {
   "metadata": {
    "ExecuteTime": {
     "end_time": "2024-05-01T14:03:26.167943Z",
     "start_time": "2024-05-01T14:03:26.164238Z"
    }
   },
   "cell_type": "code",
   "source": [
    "len(test_data.tensors[0])"
   ],
   "id": "6fac5873d1be45dc",
   "outputs": [
    {
     "data": {
      "text/plain": [
       "30"
      ]
     },
     "execution_count": 8,
     "metadata": {},
     "output_type": "execute_result"
    }
   ],
   "execution_count": 8
  },
  {
   "metadata": {},
   "cell_type": "markdown",
   "source": "## Create DataLoaders",
   "id": "2536aed56995de03"
  },
  {
   "metadata": {
    "ExecuteTime": {
     "end_time": "2024-05-01T14:03:26.171806Z",
     "start_time": "2024-05-01T14:03:26.168601Z"
    }
   },
   "cell_type": "code",
   "source": [
    "train_loader = DataLoader(train_data, batch_size=12, shuffle=True)\n",
    "test_loader = DataLoader(test_data, batch_size=len(test_data.tensors[0]))"
   ],
   "id": "d2505ec3b2e6142b",
   "outputs": [],
   "execution_count": 9
  },
  {
   "metadata": {
    "ExecuteTime": {
     "end_time": "2024-05-01T14:06:22.584838Z",
     "start_time": "2024-05-01T14:06:22.576130Z"
    }
   },
   "cell_type": "code",
   "source": [
    "for X, y in train_loader:\n",
    "    print(f\"Train data: {X}, train labels: {y}\")"
   ],
   "id": "8cb64ea9870b572a",
   "outputs": [
    {
     "name": "stdout",
     "output_type": "stream",
     "text": [
      "Train data: tensor([[5.6000, 2.9000, 3.6000, 1.3000],\n",
      "        [7.3000, 2.9000, 6.3000, 1.8000],\n",
      "        [6.8000, 3.2000, 5.9000, 2.3000],\n",
      "        [6.5000, 3.0000, 5.5000, 1.8000],\n",
      "        [5.9000, 3.0000, 4.2000, 1.5000],\n",
      "        [6.2000, 3.4000, 5.4000, 2.3000],\n",
      "        [4.7000, 3.2000, 1.6000, 0.2000],\n",
      "        [5.2000, 3.5000, 1.5000, 0.2000],\n",
      "        [6.6000, 3.0000, 4.4000, 1.4000],\n",
      "        [5.0000, 2.3000, 3.3000, 1.0000],\n",
      "        [5.5000, 3.5000, 1.3000, 0.2000],\n",
      "        [5.0000, 3.2000, 1.2000, 0.2000]], dtype=torch.float64), train labels: tensor([1, 2, 2, 2, 1, 2, 0, 0, 1, 1, 0, 0])\n",
      "Train data: tensor([[5.1000, 3.8000, 1.5000, 0.3000],\n",
      "        [5.5000, 2.6000, 4.4000, 1.2000],\n",
      "        [6.4000, 3.2000, 4.5000, 1.5000],\n",
      "        [6.7000, 3.3000, 5.7000, 2.5000],\n",
      "        [4.6000, 3.6000, 1.0000, 0.2000],\n",
      "        [5.4000, 3.9000, 1.7000, 0.4000],\n",
      "        [4.3000, 3.0000, 1.1000, 0.1000],\n",
      "        [6.8000, 2.8000, 4.8000, 1.4000],\n",
      "        [5.5000, 2.3000, 4.0000, 1.3000],\n",
      "        [6.3000, 2.5000, 4.9000, 1.5000],\n",
      "        [5.2000, 3.4000, 1.4000, 0.2000],\n",
      "        [7.7000, 2.6000, 6.9000, 2.3000]], dtype=torch.float64), train labels: tensor([0, 1, 1, 2, 0, 0, 0, 1, 1, 1, 0, 2])\n",
      "Train data: tensor([[5.5000, 2.4000, 3.8000, 1.1000],\n",
      "        [5.3000, 3.7000, 1.5000, 0.2000],\n",
      "        [5.0000, 3.4000, 1.5000, 0.2000],\n",
      "        [7.9000, 3.8000, 6.4000, 2.0000],\n",
      "        [6.3000, 3.3000, 4.7000, 1.6000],\n",
      "        [6.1000, 2.8000, 4.7000, 1.2000],\n",
      "        [5.8000, 2.6000, 4.0000, 1.2000],\n",
      "        [6.8000, 3.0000, 5.5000, 2.1000],\n",
      "        [5.1000, 3.8000, 1.6000, 0.2000],\n",
      "        [5.6000, 2.5000, 3.9000, 1.1000],\n",
      "        [6.5000, 2.8000, 4.6000, 1.5000],\n",
      "        [5.2000, 4.1000, 1.5000, 0.1000]], dtype=torch.float64), train labels: tensor([1, 0, 0, 2, 1, 1, 1, 2, 0, 1, 1, 0])\n",
      "Train data: tensor([[5.4000, 3.4000, 1.5000, 0.4000],\n",
      "        [6.1000, 3.0000, 4.6000, 1.4000],\n",
      "        [5.5000, 4.2000, 1.4000, 0.2000],\n",
      "        [6.2000, 2.8000, 4.8000, 1.8000],\n",
      "        [5.6000, 3.0000, 4.5000, 1.5000],\n",
      "        [4.6000, 3.2000, 1.4000, 0.2000],\n",
      "        [4.4000, 2.9000, 1.4000, 0.2000],\n",
      "        [5.1000, 3.8000, 1.9000, 0.4000],\n",
      "        [7.0000, 3.2000, 4.7000, 1.4000],\n",
      "        [7.7000, 3.0000, 6.1000, 2.3000],\n",
      "        [6.5000, 3.0000, 5.2000, 2.0000],\n",
      "        [6.4000, 3.1000, 5.5000, 1.8000]], dtype=torch.float64), train labels: tensor([0, 1, 0, 2, 1, 0, 0, 0, 1, 2, 2, 2])\n",
      "Train data: tensor([[5.6000, 2.7000, 4.2000, 1.3000],\n",
      "        [4.8000, 3.4000, 1.6000, 0.2000],\n",
      "        [5.4000, 3.4000, 1.7000, 0.2000],\n",
      "        [5.5000, 2.5000, 4.0000, 1.3000],\n",
      "        [6.5000, 3.0000, 5.8000, 2.2000],\n",
      "        [6.2000, 2.2000, 4.5000, 1.5000],\n",
      "        [6.3000, 2.7000, 4.9000, 1.8000],\n",
      "        [4.9000, 3.6000, 1.4000, 0.1000],\n",
      "        [5.9000, 3.2000, 4.8000, 1.8000],\n",
      "        [6.1000, 2.9000, 4.7000, 1.4000],\n",
      "        [6.0000, 2.9000, 4.5000, 1.5000],\n",
      "        [5.7000, 3.8000, 1.7000, 0.3000]], dtype=torch.float64), train labels: tensor([1, 0, 0, 1, 2, 1, 2, 0, 1, 1, 1, 0])\n",
      "Train data: tensor([[5.6000, 2.8000, 4.9000, 2.0000],\n",
      "        [5.1000, 3.7000, 1.5000, 0.4000],\n",
      "        [7.7000, 3.8000, 6.7000, 2.2000],\n",
      "        [5.4000, 3.0000, 4.5000, 1.5000],\n",
      "        [6.7000, 3.0000, 5.0000, 1.7000],\n",
      "        [5.1000, 3.4000, 1.5000, 0.2000],\n",
      "        [5.7000, 2.5000, 5.0000, 2.0000],\n",
      "        [6.0000, 2.2000, 4.0000, 1.0000],\n",
      "        [5.7000, 2.6000, 3.5000, 1.0000],\n",
      "        [6.3000, 3.3000, 6.0000, 2.5000],\n",
      "        [6.4000, 3.2000, 5.3000, 2.3000],\n",
      "        [6.4000, 2.7000, 5.3000, 1.9000]], dtype=torch.float64), train labels: tensor([2, 0, 2, 1, 1, 0, 2, 1, 1, 2, 2, 2])\n",
      "Train data: tensor([[4.8000, 3.0000, 1.4000, 0.1000],\n",
      "        [5.0000, 3.5000, 1.3000, 0.3000],\n",
      "        [4.9000, 3.0000, 1.4000, 0.2000],\n",
      "        [5.0000, 3.0000, 1.6000, 0.2000],\n",
      "        [5.0000, 2.0000, 3.5000, 1.0000],\n",
      "        [6.4000, 2.9000, 4.3000, 1.3000],\n",
      "        [6.7000, 3.1000, 5.6000, 2.4000],\n",
      "        [7.4000, 2.8000, 6.1000, 1.9000],\n",
      "        [6.0000, 3.4000, 4.5000, 1.6000],\n",
      "        [5.1000, 3.5000, 1.4000, 0.2000],\n",
      "        [6.0000, 2.7000, 5.1000, 1.6000],\n",
      "        [5.1000, 2.5000, 3.0000, 1.1000]], dtype=torch.float64), train labels: tensor([0, 0, 0, 0, 1, 1, 2, 2, 1, 0, 1, 1])\n",
      "Train data: tensor([[4.9000, 3.1000, 1.5000, 0.1000],\n",
      "        [4.4000, 3.2000, 1.3000, 0.2000],\n",
      "        [5.8000, 2.7000, 3.9000, 1.2000],\n",
      "        [5.5000, 2.4000, 3.7000, 1.0000],\n",
      "        [5.0000, 3.4000, 1.6000, 0.4000],\n",
      "        [6.7000, 3.1000, 4.7000, 1.5000],\n",
      "        [6.3000, 2.8000, 5.1000, 1.5000],\n",
      "        [6.3000, 2.5000, 5.0000, 1.9000],\n",
      "        [4.6000, 3.4000, 1.4000, 0.3000],\n",
      "        [5.0000, 3.3000, 1.4000, 0.2000],\n",
      "        [4.8000, 3.0000, 1.4000, 0.3000],\n",
      "        [5.8000, 2.7000, 4.1000, 1.0000]], dtype=torch.float64), train labels: tensor([0, 0, 1, 1, 0, 1, 2, 2, 0, 0, 0, 1])\n",
      "Train data: tensor([[5.7000, 4.4000, 1.5000, 0.4000],\n",
      "        [7.2000, 3.6000, 6.1000, 2.5000],\n",
      "        [4.6000, 3.1000, 1.5000, 0.2000],\n",
      "        [5.1000, 3.3000, 1.7000, 0.5000],\n",
      "        [4.5000, 2.3000, 1.3000, 0.3000],\n",
      "        [6.9000, 3.2000, 5.7000, 2.3000],\n",
      "        [7.6000, 3.0000, 6.6000, 2.1000],\n",
      "        [6.4000, 2.8000, 5.6000, 2.1000],\n",
      "        [6.7000, 2.5000, 5.8000, 1.8000],\n",
      "        [5.4000, 3.7000, 1.5000, 0.2000],\n",
      "        [6.1000, 2.6000, 5.6000, 1.4000],\n",
      "        [6.3000, 2.3000, 4.4000, 1.3000]], dtype=torch.float64), train labels: tensor([0, 2, 0, 0, 0, 2, 2, 2, 2, 0, 2, 1])\n",
      "Train data: tensor([[4.7000, 3.2000, 1.3000, 0.2000],\n",
      "        [6.3000, 2.9000, 5.6000, 1.8000],\n",
      "        [5.8000, 2.7000, 5.1000, 1.9000],\n",
      "        [5.2000, 2.7000, 3.9000, 1.4000],\n",
      "        [5.0000, 3.6000, 1.4000, 0.2000],\n",
      "        [6.2000, 2.9000, 4.3000, 1.3000],\n",
      "        [5.7000, 3.0000, 4.2000, 1.2000],\n",
      "        [6.4000, 2.8000, 5.6000, 2.2000],\n",
      "        [5.1000, 3.5000, 1.4000, 0.3000],\n",
      "        [6.7000, 3.3000, 5.7000, 2.1000],\n",
      "        [4.8000, 3.4000, 1.9000, 0.2000],\n",
      "        [6.1000, 2.8000, 4.0000, 1.3000]], dtype=torch.float64), train labels: tensor([0, 2, 2, 1, 0, 1, 1, 2, 0, 2, 0, 1])\n"
     ]
    }
   ],
   "execution_count": 10
  },
  {
   "metadata": {
    "ExecuteTime": {
     "end_time": "2024-05-01T14:09:02.828987Z",
     "start_time": "2024-05-01T14:09:02.825214Z"
    }
   },
   "cell_type": "code",
   "source": [
    "for X, y in test_loader:\n",
    "    print(f\"Test data: {X}, test labels: {y}\")"
   ],
   "id": "6d8ae6ff3c3bd65b",
   "outputs": [
    {
     "name": "stdout",
     "output_type": "stream",
     "text": [
      "Test data: tensor([[4.4000, 3.0000, 1.3000, 0.2000],\n",
      "        [6.9000, 3.1000, 4.9000, 1.5000],\n",
      "        [6.3000, 3.4000, 5.6000, 2.4000],\n",
      "        [4.9000, 2.4000, 3.3000, 1.0000],\n",
      "        [6.0000, 2.2000, 5.0000, 1.5000],\n",
      "        [6.1000, 3.0000, 4.9000, 1.8000],\n",
      "        [7.2000, 3.0000, 5.8000, 1.6000],\n",
      "        [5.9000, 3.0000, 5.1000, 1.8000],\n",
      "        [7.2000, 3.2000, 6.0000, 1.8000],\n",
      "        [5.7000, 2.9000, 4.2000, 1.3000],\n",
      "        [5.6000, 3.0000, 4.1000, 1.3000],\n",
      "        [6.7000, 3.1000, 4.4000, 1.4000],\n",
      "        [6.6000, 2.9000, 4.6000, 1.3000],\n",
      "        [7.1000, 3.0000, 5.9000, 2.1000],\n",
      "        [5.8000, 2.8000, 5.1000, 2.4000],\n",
      "        [5.7000, 2.8000, 4.1000, 1.3000],\n",
      "        [5.0000, 3.5000, 1.6000, 0.6000],\n",
      "        [5.7000, 2.8000, 4.5000, 1.3000],\n",
      "        [5.4000, 3.9000, 1.3000, 0.4000],\n",
      "        [6.0000, 3.0000, 4.8000, 1.8000],\n",
      "        [6.9000, 3.1000, 5.4000, 2.1000],\n",
      "        [6.9000, 3.1000, 5.1000, 2.3000],\n",
      "        [4.9000, 3.1000, 1.5000, 0.2000],\n",
      "        [4.9000, 2.5000, 4.5000, 1.7000],\n",
      "        [5.8000, 2.7000, 5.1000, 1.9000],\n",
      "        [5.8000, 4.0000, 1.2000, 0.2000],\n",
      "        [7.7000, 2.8000, 6.7000, 2.0000],\n",
      "        [6.7000, 3.0000, 5.2000, 2.3000],\n",
      "        [6.5000, 3.2000, 5.1000, 2.0000],\n",
      "        [4.8000, 3.1000, 1.6000, 0.2000]], dtype=torch.float64), test labels: tensor([0, 1, 2, 1, 2, 2, 2, 2, 2, 1, 1, 1, 1, 2, 2, 1, 0, 1, 0, 2, 2, 2, 0, 2,\n",
      "        2, 0, 2, 2, 2, 0])\n"
     ]
    }
   ],
   "execution_count": 11
  },
  {
   "metadata": {},
   "cell_type": "code",
   "outputs": [],
   "execution_count": null,
   "source": "",
   "id": "f84510a7d48260da"
  }
 ],
 "metadata": {
  "kernelspec": {
   "display_name": "Python 3",
   "language": "python",
   "name": "python3"
  },
  "language_info": {
   "codemirror_mode": {
    "name": "ipython",
    "version": 2
   },
   "file_extension": ".py",
   "mimetype": "text/x-python",
   "name": "python",
   "nbconvert_exporter": "python",
   "pygments_lexer": "ipython2",
   "version": "2.7.6"
  }
 },
 "nbformat": 4,
 "nbformat_minor": 5
}
