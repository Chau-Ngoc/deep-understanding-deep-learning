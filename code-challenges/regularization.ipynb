{
 "cells": [
  {
   "cell_type": "code",
   "id": "initial_id",
   "metadata": {
    "collapsed": true,
    "ExecuteTime": {
     "end_time": "2024-05-21T13:47:00.897326Z",
     "start_time": "2024-05-21T13:46:59.879741Z"
    }
   },
   "source": [
    "import matplotlib.pyplot as plt\n",
    "import numpy as np\n",
    "import torch\n",
    "import torch.nn as nn\n",
    "import torch.nn.functional as F\n",
    "from sklearn.model_selection import train_test_split\n",
    "from torch.utils.data import DataLoader, TensorDataset"
   ],
   "outputs": [],
   "execution_count": 12
  },
  {
   "metadata": {
    "ExecuteTime": {
     "end_time": "2024-05-21T13:33:21.479145Z",
     "start_time": "2024-05-21T13:33:21.474939Z"
    }
   },
   "cell_type": "code",
   "source": [
    "prob = 0.5\n",
    "dropout = nn.Dropout(p=prob)\n",
    "x = torch.ones(10)\n",
    "\n",
    "y = dropout(x)\n",
    "\n",
    "print(x)\n",
    "print(y)\n",
    "print(torch.mean(y))"
   ],
   "id": "81c979b7ce948bac",
   "outputs": [
    {
     "name": "stdout",
     "output_type": "stream",
     "text": [
      "tensor([1., 1., 1., 1., 1., 1., 1., 1., 1., 1.])\n",
      "tensor([0., 2., 0., 0., 0., 0., 2., 2., 0., 0.])\n",
      "tensor(0.6000)\n"
     ]
    }
   ],
   "execution_count": 7
  },
  {
   "metadata": {},
   "cell_type": "markdown",
   "source": "Dropout is turned off during evaluation",
   "id": "daf8845f5e736d35"
  },
  {
   "metadata": {
    "ExecuteTime": {
     "end_time": "2024-05-21T13:34:42.571734Z",
     "start_time": "2024-05-21T13:34:42.567465Z"
    }
   },
   "cell_type": "code",
   "source": [
    "dropout.eval()\n",
    "y = dropout(x)\n",
    "print(y)\n",
    "print(torch.mean(y))"
   ],
   "id": "fb035bc046e3c9ec",
   "outputs": [
    {
     "name": "stdout",
     "output_type": "stream",
     "text": [
      "tensor([1., 1., 1., 1., 1., 1., 1., 1., 1., 1.])\n",
      "tensor(1.)\n"
     ]
    }
   ],
   "execution_count": 8
  },
  {
   "metadata": {},
   "cell_type": "markdown",
   "source": "Unexpectedly, turning our model's eval mode on does not affect the dropout function in the functional module",
   "id": "d19da1986178738f"
  },
  {
   "metadata": {
    "ExecuteTime": {
     "end_time": "2024-05-21T13:34:51.399544Z",
     "start_time": "2024-05-21T13:34:51.395105Z"
    }
   },
   "cell_type": "code",
   "source": [
    "dropout.eval()\n",
    "y = F.dropout(x)\n",
    "print(y)"
   ],
   "id": "1ff20421613fb276",
   "outputs": [
    {
     "name": "stdout",
     "output_type": "stream",
     "text": [
      "tensor([2., 0., 0., 2., 0., 2., 0., 0., 2., 2.])\n"
     ]
    }
   ],
   "execution_count": 9
  },
  {
   "metadata": {},
   "cell_type": "markdown",
   "source": "But we can turn it on by setting the `training` parameter to **False**",
   "id": "97962ada57aa682b"
  },
  {
   "metadata": {
    "ExecuteTime": {
     "end_time": "2024-05-21T13:34:56.088887Z",
     "start_time": "2024-05-21T13:34:56.085442Z"
    }
   },
   "cell_type": "code",
   "source": [
    "y = F.dropout(x, training=False)\n",
    "print(y)"
   ],
   "id": "e53bf8f30f4cf4f1",
   "outputs": [
    {
     "name": "stdout",
     "output_type": "stream",
     "text": [
      "tensor([1., 1., 1., 1., 1., 1., 1., 1., 1., 1.])\n"
     ]
    }
   ],
   "execution_count": 10
  },
  {
   "metadata": {},
   "cell_type": "markdown",
   "source": "Below cell proves that you have to remember to turn training mode on to turn on dropout",
   "id": "581cc889900dd8e2"
  },
  {
   "metadata": {
    "ExecuteTime": {
     "end_time": "2024-05-21T13:34:57.161119Z",
     "start_time": "2024-05-21T13:34:57.156755Z"
    }
   },
   "cell_type": "code",
   "source": [
    "dropout.train()\n",
    "y = dropout(x)\n",
    "print(y)\n",
    "\n",
    "dropout.eval()\n",
    "y = dropout(x)\n",
    "print(y)\n",
    "\n",
    "y = dropout(x)\n",
    "print(y)"
   ],
   "id": "831a66c5fa5ab76c",
   "outputs": [
    {
     "name": "stdout",
     "output_type": "stream",
     "text": [
      "tensor([2., 0., 0., 0., 2., 0., 2., 0., 0., 0.])\n",
      "tensor([1., 1., 1., 1., 1., 1., 1., 1., 1., 1.])\n",
      "tensor([1., 1., 1., 1., 1., 1., 1., 1., 1., 1.])\n"
     ]
    }
   ],
   "execution_count": 11
  },
  {
   "metadata": {
    "ExecuteTime": {
     "end_time": "2024-05-21T13:28:46.021395Z",
     "start_time": "2024-05-21T13:28:46.019549Z"
    }
   },
   "cell_type": "code",
   "source": "",
   "id": "3ca19edac6f2fdda",
   "outputs": [],
   "execution_count": 6
  }
 ],
 "metadata": {
  "kernelspec": {
   "display_name": "Python 3",
   "language": "python",
   "name": "python3"
  },
  "language_info": {
   "codemirror_mode": {
    "name": "ipython",
    "version": 2
   },
   "file_extension": ".py",
   "mimetype": "text/x-python",
   "name": "python",
   "nbconvert_exporter": "python",
   "pygments_lexer": "ipython2",
   "version": "2.7.6"
  }
 },
 "nbformat": 4,
 "nbformat_minor": 5
}
