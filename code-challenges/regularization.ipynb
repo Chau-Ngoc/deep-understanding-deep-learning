{
 "cells": [
  {
   "cell_type": "code",
   "id": "initial_id",
   "metadata": {
    "collapsed": true,
    "ExecuteTime": {
     "end_time": "2024-05-21T14:55:38.261019Z",
     "start_time": "2024-05-21T14:55:36.945972Z"
    }
   },
   "source": [
    "import matplotlib.pyplot as plt\n",
    "import numpy as np\n",
    "import torch\n",
    "import torch.nn as nn\n",
    "import torch.nn.functional as F\n",
    "from sklearn.model_selection import train_test_split\n",
    "from torch.utils.data import DataLoader, TensorDataset"
   ],
   "outputs": [],
   "execution_count": 1
  },
  {
   "metadata": {
    "ExecuteTime": {
     "end_time": "2024-05-21T14:55:38.266820Z",
     "start_time": "2024-05-21T14:55:38.262123Z"
    }
   },
   "cell_type": "code",
   "source": [
    "prob = 0.5\n",
    "dropout = nn.Dropout(p=prob)\n",
    "x = torch.ones(10)\n",
    "\n",
    "y = dropout(x)\n",
    "\n",
    "print(x)\n",
    "print(y)\n",
    "print(torch.mean(y))"
   ],
   "id": "81c979b7ce948bac",
   "outputs": [
    {
     "name": "stdout",
     "output_type": "stream",
     "text": [
      "tensor([1., 1., 1., 1., 1., 1., 1., 1., 1., 1.])\n",
      "tensor([2., 2., 2., 2., 2., 0., 2., 2., 2., 0.])\n",
      "tensor(1.6000)\n"
     ]
    }
   ],
   "execution_count": 2
  },
  {
   "metadata": {},
   "cell_type": "markdown",
   "source": "Dropout is turned off during evaluation",
   "id": "daf8845f5e736d35"
  },
  {
   "metadata": {
    "ExecuteTime": {
     "end_time": "2024-05-21T14:55:38.271477Z",
     "start_time": "2024-05-21T14:55:38.267962Z"
    }
   },
   "cell_type": "code",
   "source": [
    "dropout.eval()\n",
    "y = dropout(x)\n",
    "print(y)\n",
    "print(torch.mean(y))"
   ],
   "id": "fb035bc046e3c9ec",
   "outputs": [
    {
     "name": "stdout",
     "output_type": "stream",
     "text": [
      "tensor([1., 1., 1., 1., 1., 1., 1., 1., 1., 1.])\n",
      "tensor(1.)\n"
     ]
    }
   ],
   "execution_count": 3
  },
  {
   "metadata": {},
   "cell_type": "markdown",
   "source": "Unexpectedly, turning our model's eval mode on does not affect the dropout function in the functional module",
   "id": "d19da1986178738f"
  },
  {
   "metadata": {
    "ExecuteTime": {
     "end_time": "2024-05-21T14:55:38.275665Z",
     "start_time": "2024-05-21T14:55:38.273112Z"
    }
   },
   "cell_type": "code",
   "source": [
    "dropout.eval()\n",
    "y = F.dropout(x)\n",
    "print(y)"
   ],
   "id": "1ff20421613fb276",
   "outputs": [
    {
     "name": "stdout",
     "output_type": "stream",
     "text": [
      "tensor([2., 2., 2., 0., 0., 2., 0., 2., 0., 2.])\n"
     ]
    }
   ],
   "execution_count": 4
  },
  {
   "metadata": {},
   "cell_type": "markdown",
   "source": "But we can turn it on by setting the `training` parameter to **False**",
   "id": "97962ada57aa682b"
  },
  {
   "metadata": {
    "ExecuteTime": {
     "end_time": "2024-05-21T14:55:38.279156Z",
     "start_time": "2024-05-21T14:55:38.276469Z"
    }
   },
   "cell_type": "code",
   "source": [
    "y = F.dropout(x, training=False)\n",
    "print(y)"
   ],
   "id": "e53bf8f30f4cf4f1",
   "outputs": [
    {
     "name": "stdout",
     "output_type": "stream",
     "text": [
      "tensor([1., 1., 1., 1., 1., 1., 1., 1., 1., 1.])\n"
     ]
    }
   ],
   "execution_count": 5
  },
  {
   "metadata": {},
   "cell_type": "markdown",
   "source": "Below cell proves that you have to remember to turn training mode on to turn on dropout",
   "id": "581cc889900dd8e2"
  },
  {
   "metadata": {
    "ExecuteTime": {
     "end_time": "2024-05-21T14:55:38.283262Z",
     "start_time": "2024-05-21T14:55:38.279917Z"
    }
   },
   "cell_type": "code",
   "source": [
    "dropout.train()\n",
    "y = dropout(x)\n",
    "print(y)\n",
    "\n",
    "dropout.eval()\n",
    "y = dropout(x)\n",
    "print(y)\n",
    "\n",
    "y = dropout(x)\n",
    "print(y)"
   ],
   "id": "831a66c5fa5ab76c",
   "outputs": [
    {
     "name": "stdout",
     "output_type": "stream",
     "text": [
      "tensor([0., 0., 2., 0., 2., 0., 2., 0., 0., 0.])\n",
      "tensor([1., 1., 1., 1., 1., 1., 1., 1., 1., 1.])\n",
      "tensor([1., 1., 1., 1., 1., 1., 1., 1., 1., 1.])\n"
     ]
    }
   ],
   "execution_count": 6
  },
  {
   "metadata": {},
   "cell_type": "markdown",
   "source": [
    "# Regularization in practice\n",
    "## Create the data"
   ],
   "id": "f4643c5ff6d749bb"
  },
  {
   "metadata": {
    "ExecuteTime": {
     "end_time": "2024-05-21T14:55:38.289851Z",
     "start_time": "2024-05-21T14:55:38.284021Z"
    }
   },
   "cell_type": "code",
   "source": [
    "n_per_cluster = 200\n",
    "\n",
    "theta = np.linspace(0, 4 * np.pi, n_per_cluster)\n",
    "r1 = 10\n",
    "r2 = 15\n",
    "\n",
    "a = np.array(\n",
    "    [\n",
    "        r1 * np.cos(theta) + np.random.rand(n_per_cluster) * 3,\n",
    "        r1 * np.sin(theta) + np.random.rand(n_per_cluster),\n",
    "    ]\n",
    ")\n",
    "b = np.array(\n",
    "    [\n",
    "        r2 * np.cos(theta) + np.random.rand(n_per_cluster),\n",
    "        r2 * np.sin(theta) + np.random.rand(n_per_cluster) * 3,\n",
    "    ]\n",
    ")\n",
    "print(f\"Shape of a: {a.shape}, shape of b: {b.shape}\")\n",
    "\n",
    "labels = np.vstack((np.zeros((n_per_cluster, 1)), np.ones((n_per_cluster, 1))))\n",
    "print(f\"Shape of labels: {labels.shape}\")\n",
    "\n",
    "data_matrix = np.hstack((a, b)).transpose()\n",
    "print(f\"Shape of data matrix: {data_matrix.shape}\")\n",
    "\n",
    "data_tensor = torch.tensor(data_matrix).float()\n",
    "labels_tensor = torch.tensor(labels).float()"
   ],
   "id": "3ca19edac6f2fdda",
   "outputs": [
    {
     "name": "stdout",
     "output_type": "stream",
     "text": [
      "Shape of a: (2, 200), shape of b: (2, 200)\n",
      "Shape of labels: (400, 1)\n",
      "Shape of data matrix: (400, 2)\n"
     ]
    }
   ],
   "execution_count": 7
  },
  {
   "metadata": {
    "ExecuteTime": {
     "end_time": "2024-05-21T14:55:38.297429Z",
     "start_time": "2024-05-21T14:55:38.290910Z"
    }
   },
   "cell_type": "code",
   "source": [
    "labels"
   ],
   "id": "bdb58edc54680e4a",
   "outputs": [
    {
     "data": {
      "text/plain": [
       "array([[0.],\n",
       "       [0.],\n",
       "       [0.],\n",
       "       [0.],\n",
       "       [0.],\n",
       "       [0.],\n",
       "       [0.],\n",
       "       [0.],\n",
       "       [0.],\n",
       "       [0.],\n",
       "       [0.],\n",
       "       [0.],\n",
       "       [0.],\n",
       "       [0.],\n",
       "       [0.],\n",
       "       [0.],\n",
       "       [0.],\n",
       "       [0.],\n",
       "       [0.],\n",
       "       [0.],\n",
       "       [0.],\n",
       "       [0.],\n",
       "       [0.],\n",
       "       [0.],\n",
       "       [0.],\n",
       "       [0.],\n",
       "       [0.],\n",
       "       [0.],\n",
       "       [0.],\n",
       "       [0.],\n",
       "       [0.],\n",
       "       [0.],\n",
       "       [0.],\n",
       "       [0.],\n",
       "       [0.],\n",
       "       [0.],\n",
       "       [0.],\n",
       "       [0.],\n",
       "       [0.],\n",
       "       [0.],\n",
       "       [0.],\n",
       "       [0.],\n",
       "       [0.],\n",
       "       [0.],\n",
       "       [0.],\n",
       "       [0.],\n",
       "       [0.],\n",
       "       [0.],\n",
       "       [0.],\n",
       "       [0.],\n",
       "       [0.],\n",
       "       [0.],\n",
       "       [0.],\n",
       "       [0.],\n",
       "       [0.],\n",
       "       [0.],\n",
       "       [0.],\n",
       "       [0.],\n",
       "       [0.],\n",
       "       [0.],\n",
       "       [0.],\n",
       "       [0.],\n",
       "       [0.],\n",
       "       [0.],\n",
       "       [0.],\n",
       "       [0.],\n",
       "       [0.],\n",
       "       [0.],\n",
       "       [0.],\n",
       "       [0.],\n",
       "       [0.],\n",
       "       [0.],\n",
       "       [0.],\n",
       "       [0.],\n",
       "       [0.],\n",
       "       [0.],\n",
       "       [0.],\n",
       "       [0.],\n",
       "       [0.],\n",
       "       [0.],\n",
       "       [0.],\n",
       "       [0.],\n",
       "       [0.],\n",
       "       [0.],\n",
       "       [0.],\n",
       "       [0.],\n",
       "       [0.],\n",
       "       [0.],\n",
       "       [0.],\n",
       "       [0.],\n",
       "       [0.],\n",
       "       [0.],\n",
       "       [0.],\n",
       "       [0.],\n",
       "       [0.],\n",
       "       [0.],\n",
       "       [0.],\n",
       "       [0.],\n",
       "       [0.],\n",
       "       [0.],\n",
       "       [0.],\n",
       "       [0.],\n",
       "       [0.],\n",
       "       [0.],\n",
       "       [0.],\n",
       "       [0.],\n",
       "       [0.],\n",
       "       [0.],\n",
       "       [0.],\n",
       "       [0.],\n",
       "       [0.],\n",
       "       [0.],\n",
       "       [0.],\n",
       "       [0.],\n",
       "       [0.],\n",
       "       [0.],\n",
       "       [0.],\n",
       "       [0.],\n",
       "       [0.],\n",
       "       [0.],\n",
       "       [0.],\n",
       "       [0.],\n",
       "       [0.],\n",
       "       [0.],\n",
       "       [0.],\n",
       "       [0.],\n",
       "       [0.],\n",
       "       [0.],\n",
       "       [0.],\n",
       "       [0.],\n",
       "       [0.],\n",
       "       [0.],\n",
       "       [0.],\n",
       "       [0.],\n",
       "       [0.],\n",
       "       [0.],\n",
       "       [0.],\n",
       "       [0.],\n",
       "       [0.],\n",
       "       [0.],\n",
       "       [0.],\n",
       "       [0.],\n",
       "       [0.],\n",
       "       [0.],\n",
       "       [0.],\n",
       "       [0.],\n",
       "       [0.],\n",
       "       [0.],\n",
       "       [0.],\n",
       "       [0.],\n",
       "       [0.],\n",
       "       [0.],\n",
       "       [0.],\n",
       "       [0.],\n",
       "       [0.],\n",
       "       [0.],\n",
       "       [0.],\n",
       "       [0.],\n",
       "       [0.],\n",
       "       [0.],\n",
       "       [0.],\n",
       "       [0.],\n",
       "       [0.],\n",
       "       [0.],\n",
       "       [0.],\n",
       "       [0.],\n",
       "       [0.],\n",
       "       [0.],\n",
       "       [0.],\n",
       "       [0.],\n",
       "       [0.],\n",
       "       [0.],\n",
       "       [0.],\n",
       "       [0.],\n",
       "       [0.],\n",
       "       [0.],\n",
       "       [0.],\n",
       "       [0.],\n",
       "       [0.],\n",
       "       [0.],\n",
       "       [0.],\n",
       "       [0.],\n",
       "       [0.],\n",
       "       [0.],\n",
       "       [0.],\n",
       "       [0.],\n",
       "       [0.],\n",
       "       [0.],\n",
       "       [0.],\n",
       "       [0.],\n",
       "       [0.],\n",
       "       [0.],\n",
       "       [0.],\n",
       "       [0.],\n",
       "       [0.],\n",
       "       [0.],\n",
       "       [0.],\n",
       "       [0.],\n",
       "       [0.],\n",
       "       [0.],\n",
       "       [1.],\n",
       "       [1.],\n",
       "       [1.],\n",
       "       [1.],\n",
       "       [1.],\n",
       "       [1.],\n",
       "       [1.],\n",
       "       [1.],\n",
       "       [1.],\n",
       "       [1.],\n",
       "       [1.],\n",
       "       [1.],\n",
       "       [1.],\n",
       "       [1.],\n",
       "       [1.],\n",
       "       [1.],\n",
       "       [1.],\n",
       "       [1.],\n",
       "       [1.],\n",
       "       [1.],\n",
       "       [1.],\n",
       "       [1.],\n",
       "       [1.],\n",
       "       [1.],\n",
       "       [1.],\n",
       "       [1.],\n",
       "       [1.],\n",
       "       [1.],\n",
       "       [1.],\n",
       "       [1.],\n",
       "       [1.],\n",
       "       [1.],\n",
       "       [1.],\n",
       "       [1.],\n",
       "       [1.],\n",
       "       [1.],\n",
       "       [1.],\n",
       "       [1.],\n",
       "       [1.],\n",
       "       [1.],\n",
       "       [1.],\n",
       "       [1.],\n",
       "       [1.],\n",
       "       [1.],\n",
       "       [1.],\n",
       "       [1.],\n",
       "       [1.],\n",
       "       [1.],\n",
       "       [1.],\n",
       "       [1.],\n",
       "       [1.],\n",
       "       [1.],\n",
       "       [1.],\n",
       "       [1.],\n",
       "       [1.],\n",
       "       [1.],\n",
       "       [1.],\n",
       "       [1.],\n",
       "       [1.],\n",
       "       [1.],\n",
       "       [1.],\n",
       "       [1.],\n",
       "       [1.],\n",
       "       [1.],\n",
       "       [1.],\n",
       "       [1.],\n",
       "       [1.],\n",
       "       [1.],\n",
       "       [1.],\n",
       "       [1.],\n",
       "       [1.],\n",
       "       [1.],\n",
       "       [1.],\n",
       "       [1.],\n",
       "       [1.],\n",
       "       [1.],\n",
       "       [1.],\n",
       "       [1.],\n",
       "       [1.],\n",
       "       [1.],\n",
       "       [1.],\n",
       "       [1.],\n",
       "       [1.],\n",
       "       [1.],\n",
       "       [1.],\n",
       "       [1.],\n",
       "       [1.],\n",
       "       [1.],\n",
       "       [1.],\n",
       "       [1.],\n",
       "       [1.],\n",
       "       [1.],\n",
       "       [1.],\n",
       "       [1.],\n",
       "       [1.],\n",
       "       [1.],\n",
       "       [1.],\n",
       "       [1.],\n",
       "       [1.],\n",
       "       [1.],\n",
       "       [1.],\n",
       "       [1.],\n",
       "       [1.],\n",
       "       [1.],\n",
       "       [1.],\n",
       "       [1.],\n",
       "       [1.],\n",
       "       [1.],\n",
       "       [1.],\n",
       "       [1.],\n",
       "       [1.],\n",
       "       [1.],\n",
       "       [1.],\n",
       "       [1.],\n",
       "       [1.],\n",
       "       [1.],\n",
       "       [1.],\n",
       "       [1.],\n",
       "       [1.],\n",
       "       [1.],\n",
       "       [1.],\n",
       "       [1.],\n",
       "       [1.],\n",
       "       [1.],\n",
       "       [1.],\n",
       "       [1.],\n",
       "       [1.],\n",
       "       [1.],\n",
       "       [1.],\n",
       "       [1.],\n",
       "       [1.],\n",
       "       [1.],\n",
       "       [1.],\n",
       "       [1.],\n",
       "       [1.],\n",
       "       [1.],\n",
       "       [1.],\n",
       "       [1.],\n",
       "       [1.],\n",
       "       [1.],\n",
       "       [1.],\n",
       "       [1.],\n",
       "       [1.],\n",
       "       [1.],\n",
       "       [1.],\n",
       "       [1.],\n",
       "       [1.],\n",
       "       [1.],\n",
       "       [1.],\n",
       "       [1.],\n",
       "       [1.],\n",
       "       [1.],\n",
       "       [1.],\n",
       "       [1.],\n",
       "       [1.],\n",
       "       [1.],\n",
       "       [1.],\n",
       "       [1.],\n",
       "       [1.],\n",
       "       [1.],\n",
       "       [1.],\n",
       "       [1.],\n",
       "       [1.],\n",
       "       [1.],\n",
       "       [1.],\n",
       "       [1.],\n",
       "       [1.],\n",
       "       [1.],\n",
       "       [1.],\n",
       "       [1.],\n",
       "       [1.],\n",
       "       [1.],\n",
       "       [1.],\n",
       "       [1.],\n",
       "       [1.],\n",
       "       [1.],\n",
       "       [1.],\n",
       "       [1.],\n",
       "       [1.],\n",
       "       [1.],\n",
       "       [1.],\n",
       "       [1.],\n",
       "       [1.],\n",
       "       [1.],\n",
       "       [1.],\n",
       "       [1.],\n",
       "       [1.],\n",
       "       [1.],\n",
       "       [1.],\n",
       "       [1.],\n",
       "       [1.],\n",
       "       [1.],\n",
       "       [1.],\n",
       "       [1.],\n",
       "       [1.],\n",
       "       [1.],\n",
       "       [1.],\n",
       "       [1.],\n",
       "       [1.],\n",
       "       [1.]])"
      ]
     },
     "execution_count": 8,
     "metadata": {},
     "output_type": "execute_result"
    }
   ],
   "execution_count": 8
  },
  {
   "metadata": {
    "ExecuteTime": {
     "end_time": "2024-05-21T14:55:38.300871Z",
     "start_time": "2024-05-21T14:55:38.298286Z"
    }
   },
   "cell_type": "code",
   "source": [
    "data_tensor.shape"
   ],
   "id": "b21ba098d9999b91",
   "outputs": [
    {
     "data": {
      "text/plain": [
       "torch.Size([400, 2])"
      ]
     },
     "execution_count": 9,
     "metadata": {},
     "output_type": "execute_result"
    }
   ],
   "execution_count": 9
  },
  {
   "metadata": {
    "ExecuteTime": {
     "end_time": "2024-05-21T14:55:38.306214Z",
     "start_time": "2024-05-21T14:55:38.302562Z"
    }
   },
   "cell_type": "code",
   "source": [
    "np.where(labels == 1)"
   ],
   "id": "c94152f0c2e2cdd5",
   "outputs": [
    {
     "data": {
      "text/plain": [
       "(array([200, 201, 202, 203, 204, 205, 206, 207, 208, 209, 210, 211, 212,\n",
       "        213, 214, 215, 216, 217, 218, 219, 220, 221, 222, 223, 224, 225,\n",
       "        226, 227, 228, 229, 230, 231, 232, 233, 234, 235, 236, 237, 238,\n",
       "        239, 240, 241, 242, 243, 244, 245, 246, 247, 248, 249, 250, 251,\n",
       "        252, 253, 254, 255, 256, 257, 258, 259, 260, 261, 262, 263, 264,\n",
       "        265, 266, 267, 268, 269, 270, 271, 272, 273, 274, 275, 276, 277,\n",
       "        278, 279, 280, 281, 282, 283, 284, 285, 286, 287, 288, 289, 290,\n",
       "        291, 292, 293, 294, 295, 296, 297, 298, 299, 300, 301, 302, 303,\n",
       "        304, 305, 306, 307, 308, 309, 310, 311, 312, 313, 314, 315, 316,\n",
       "        317, 318, 319, 320, 321, 322, 323, 324, 325, 326, 327, 328, 329,\n",
       "        330, 331, 332, 333, 334, 335, 336, 337, 338, 339, 340, 341, 342,\n",
       "        343, 344, 345, 346, 347, 348, 349, 350, 351, 352, 353, 354, 355,\n",
       "        356, 357, 358, 359, 360, 361, 362, 363, 364, 365, 366, 367, 368,\n",
       "        369, 370, 371, 372, 373, 374, 375, 376, 377, 378, 379, 380, 381,\n",
       "        382, 383, 384, 385, 386, 387, 388, 389, 390, 391, 392, 393, 394,\n",
       "        395, 396, 397, 398, 399]),\n",
       " array([0, 0, 0, 0, 0, 0, 0, 0, 0, 0, 0, 0, 0, 0, 0, 0, 0, 0, 0, 0, 0, 0,\n",
       "        0, 0, 0, 0, 0, 0, 0, 0, 0, 0, 0, 0, 0, 0, 0, 0, 0, 0, 0, 0, 0, 0,\n",
       "        0, 0, 0, 0, 0, 0, 0, 0, 0, 0, 0, 0, 0, 0, 0, 0, 0, 0, 0, 0, 0, 0,\n",
       "        0, 0, 0, 0, 0, 0, 0, 0, 0, 0, 0, 0, 0, 0, 0, 0, 0, 0, 0, 0, 0, 0,\n",
       "        0, 0, 0, 0, 0, 0, 0, 0, 0, 0, 0, 0, 0, 0, 0, 0, 0, 0, 0, 0, 0, 0,\n",
       "        0, 0, 0, 0, 0, 0, 0, 0, 0, 0, 0, 0, 0, 0, 0, 0, 0, 0, 0, 0, 0, 0,\n",
       "        0, 0, 0, 0, 0, 0, 0, 0, 0, 0, 0, 0, 0, 0, 0, 0, 0, 0, 0, 0, 0, 0,\n",
       "        0, 0, 0, 0, 0, 0, 0, 0, 0, 0, 0, 0, 0, 0, 0, 0, 0, 0, 0, 0, 0, 0,\n",
       "        0, 0, 0, 0, 0, 0, 0, 0, 0, 0, 0, 0, 0, 0, 0, 0, 0, 0, 0, 0, 0, 0,\n",
       "        0, 0]))"
      ]
     },
     "execution_count": 10,
     "metadata": {},
     "output_type": "execute_result"
    }
   ],
   "execution_count": 10
  },
  {
   "metadata": {
    "ExecuteTime": {
     "end_time": "2024-05-21T14:55:38.311869Z",
     "start_time": "2024-05-21T14:55:38.307173Z"
    }
   },
   "cell_type": "code",
   "source": [
    "data_tensor[(np.arange(200), np.zeros(200))]"
   ],
   "id": "a238167392550484",
   "outputs": [
    {
     "data": {
      "text/plain": [
       "tensor([10.1542, 10.5545, 10.3721, 12.1777, 10.6743, 11.1145, 12.1071, 10.7285,\n",
       "         9.5235, 10.8737,  9.2933,  8.4817,  9.7237,  8.0273,  8.7073,  5.8557,\n",
       "         6.9228,  6.4165,  5.5686,  6.1750,  3.3799,  2.9070,  3.2332,  4.1416,\n",
       "         2.3832,  1.6695,  0.8865,  0.2106,  0.9309, -1.5463, -0.9136, -1.0860,\n",
       "        -3.6781, -3.8291, -4.4245, -3.0329, -4.3289, -5.4254, -5.6874, -7.2869,\n",
       "        -7.0810, -7.3313, -7.6265, -8.4850, -8.0286, -8.0375, -6.7812, -9.4048,\n",
       "        -7.3511, -9.0854, -8.1899, -8.7463, -7.4874, -6.9900, -7.7314, -8.2677,\n",
       "        -8.5394, -8.6602, -6.1485, -6.3651, -4.9829, -7.2782, -6.9064, -5.1168,\n",
       "        -5.3249, -4.4294, -4.7821, -4.1378, -3.5687, -1.4870, -1.5951,  0.6393,\n",
       "        -1.3515,  0.8147,  0.6187,  2.0986,  1.5057,  1.8744,  2.5642,  3.7725,\n",
       "         4.1391,  6.8958,  4.8237,  5.5442,  7.0066,  7.6930,  7.4784,  7.2446,\n",
       "         8.9770, 10.0648,  9.7149, 10.1214, 10.0887, 10.8415, 10.6848, 12.4944,\n",
       "        12.0405, 10.7628, 11.7479, 12.0156, 12.9654, 11.3887, 12.1125, 11.4578,\n",
       "        12.5330, 10.6415, 10.3964,  9.0044, 10.7822, 10.3147,  9.1539,  7.6502,\n",
       "         7.1732,  8.8478,  6.7196,  7.5624,  7.3002,  5.1053,  4.6078,  4.4792,\n",
       "         3.2315,  4.9351,  2.1265,  3.0305,  2.8387,  1.6498, -0.8925,  1.2733,\n",
       "        -1.1941, -2.1806, -2.8744, -2.5240, -3.3317, -4.2964, -4.2394, -4.1887,\n",
       "        -5.1378, -5.3297, -7.5686, -7.5703, -8.2184, -8.0924, -8.8150, -9.0305,\n",
       "        -8.1363, -7.2050, -8.8472, -8.5755, -9.0409, -7.0236, -8.9013, -9.5496,\n",
       "        -9.1139, -7.4483, -8.5325, -9.0427, -6.7370, -7.5183, -6.3981, -7.4483,\n",
       "        -5.3268, -5.2077, -6.2694, -3.5271, -5.5620, -3.3637, -4.6102, -3.6787,\n",
       "        -1.6535, -1.6439, -0.0411, -1.2977,  1.3238,  2.0535,  1.6380,  1.5408,\n",
       "         1.3701,  2.0433,  2.8756,  3.0954,  3.8912,  4.6984,  7.2599,  7.0568,\n",
       "         6.2159,  8.0612,  9.7130, 10.2260,  9.6273,  9.2751, 10.7008, 11.0445,\n",
       "        10.3263, 10.1980, 11.1843, 10.1214, 10.9731, 12.7308, 11.2161, 10.5558])"
      ]
     },
     "execution_count": 11,
     "metadata": {},
     "output_type": "execute_result"
    }
   ],
   "execution_count": 11
  },
  {
   "metadata": {
    "ExecuteTime": {
     "end_time": "2024-05-21T14:55:38.316910Z",
     "start_time": "2024-05-21T14:55:38.312824Z"
    }
   },
   "cell_type": "code",
   "source": [
    "data_tensor[np.where(labels == 0)]"
   ],
   "id": "d60023858c84bece",
   "outputs": [
    {
     "data": {
      "text/plain": [
       "tensor([10.1542, 10.5545, 10.3721, 12.1777, 10.6743, 11.1145, 12.1071, 10.7285,\n",
       "         9.5235, 10.8737,  9.2933,  8.4817,  9.7237,  8.0273,  8.7073,  5.8557,\n",
       "         6.9228,  6.4165,  5.5686,  6.1750,  3.3799,  2.9070,  3.2332,  4.1416,\n",
       "         2.3832,  1.6695,  0.8865,  0.2106,  0.9309, -1.5463, -0.9136, -1.0860,\n",
       "        -3.6781, -3.8291, -4.4245, -3.0329, -4.3289, -5.4254, -5.6874, -7.2869,\n",
       "        -7.0810, -7.3313, -7.6265, -8.4850, -8.0286, -8.0375, -6.7812, -9.4048,\n",
       "        -7.3511, -9.0854, -8.1899, -8.7463, -7.4874, -6.9900, -7.7314, -8.2677,\n",
       "        -8.5394, -8.6602, -6.1485, -6.3651, -4.9829, -7.2782, -6.9064, -5.1168,\n",
       "        -5.3249, -4.4294, -4.7821, -4.1378, -3.5687, -1.4870, -1.5951,  0.6393,\n",
       "        -1.3515,  0.8147,  0.6187,  2.0986,  1.5057,  1.8744,  2.5642,  3.7725,\n",
       "         4.1391,  6.8958,  4.8237,  5.5442,  7.0066,  7.6930,  7.4784,  7.2446,\n",
       "         8.9770, 10.0648,  9.7149, 10.1214, 10.0887, 10.8415, 10.6848, 12.4944,\n",
       "        12.0405, 10.7628, 11.7479, 12.0156, 12.9654, 11.3887, 12.1125, 11.4578,\n",
       "        12.5330, 10.6415, 10.3964,  9.0044, 10.7822, 10.3147,  9.1539,  7.6502,\n",
       "         7.1732,  8.8478,  6.7196,  7.5624,  7.3002,  5.1053,  4.6078,  4.4792,\n",
       "         3.2315,  4.9351,  2.1265,  3.0305,  2.8387,  1.6498, -0.8925,  1.2733,\n",
       "        -1.1941, -2.1806, -2.8744, -2.5240, -3.3317, -4.2964, -4.2394, -4.1887,\n",
       "        -5.1378, -5.3297, -7.5686, -7.5703, -8.2184, -8.0924, -8.8150, -9.0305,\n",
       "        -8.1363, -7.2050, -8.8472, -8.5755, -9.0409, -7.0236, -8.9013, -9.5496,\n",
       "        -9.1139, -7.4483, -8.5325, -9.0427, -6.7370, -7.5183, -6.3981, -7.4483,\n",
       "        -5.3268, -5.2077, -6.2694, -3.5271, -5.5620, -3.3637, -4.6102, -3.6787,\n",
       "        -1.6535, -1.6439, -0.0411, -1.2977,  1.3238,  2.0535,  1.6380,  1.5408,\n",
       "         1.3701,  2.0433,  2.8756,  3.0954,  3.8912,  4.6984,  7.2599,  7.0568,\n",
       "         6.2159,  8.0612,  9.7130, 10.2260,  9.6273,  9.2751, 10.7008, 11.0445,\n",
       "        10.3263, 10.1980, 11.1843, 10.1214, 10.9731, 12.7308, 11.2161, 10.5558])"
      ]
     },
     "execution_count": 12,
     "metadata": {},
     "output_type": "execute_result"
    }
   ],
   "execution_count": 12
  },
  {
   "metadata": {
    "ExecuteTime": {
     "end_time": "2024-05-21T14:55:38.321980Z",
     "start_time": "2024-05-21T14:55:38.317690Z"
    }
   },
   "cell_type": "code",
   "source": [
    "data_tensor[np.where(labels == 0)[0], 0]"
   ],
   "id": "22ca0af76880b545",
   "outputs": [
    {
     "data": {
      "text/plain": [
       "tensor([10.1542, 10.5545, 10.3721, 12.1777, 10.6743, 11.1145, 12.1071, 10.7285,\n",
       "         9.5235, 10.8737,  9.2933,  8.4817,  9.7237,  8.0273,  8.7073,  5.8557,\n",
       "         6.9228,  6.4165,  5.5686,  6.1750,  3.3799,  2.9070,  3.2332,  4.1416,\n",
       "         2.3832,  1.6695,  0.8865,  0.2106,  0.9309, -1.5463, -0.9136, -1.0860,\n",
       "        -3.6781, -3.8291, -4.4245, -3.0329, -4.3289, -5.4254, -5.6874, -7.2869,\n",
       "        -7.0810, -7.3313, -7.6265, -8.4850, -8.0286, -8.0375, -6.7812, -9.4048,\n",
       "        -7.3511, -9.0854, -8.1899, -8.7463, -7.4874, -6.9900, -7.7314, -8.2677,\n",
       "        -8.5394, -8.6602, -6.1485, -6.3651, -4.9829, -7.2782, -6.9064, -5.1168,\n",
       "        -5.3249, -4.4294, -4.7821, -4.1378, -3.5687, -1.4870, -1.5951,  0.6393,\n",
       "        -1.3515,  0.8147,  0.6187,  2.0986,  1.5057,  1.8744,  2.5642,  3.7725,\n",
       "         4.1391,  6.8958,  4.8237,  5.5442,  7.0066,  7.6930,  7.4784,  7.2446,\n",
       "         8.9770, 10.0648,  9.7149, 10.1214, 10.0887, 10.8415, 10.6848, 12.4944,\n",
       "        12.0405, 10.7628, 11.7479, 12.0156, 12.9654, 11.3887, 12.1125, 11.4578,\n",
       "        12.5330, 10.6415, 10.3964,  9.0044, 10.7822, 10.3147,  9.1539,  7.6502,\n",
       "         7.1732,  8.8478,  6.7196,  7.5624,  7.3002,  5.1053,  4.6078,  4.4792,\n",
       "         3.2315,  4.9351,  2.1265,  3.0305,  2.8387,  1.6498, -0.8925,  1.2733,\n",
       "        -1.1941, -2.1806, -2.8744, -2.5240, -3.3317, -4.2964, -4.2394, -4.1887,\n",
       "        -5.1378, -5.3297, -7.5686, -7.5703, -8.2184, -8.0924, -8.8150, -9.0305,\n",
       "        -8.1363, -7.2050, -8.8472, -8.5755, -9.0409, -7.0236, -8.9013, -9.5496,\n",
       "        -9.1139, -7.4483, -8.5325, -9.0427, -6.7370, -7.5183, -6.3981, -7.4483,\n",
       "        -5.3268, -5.2077, -6.2694, -3.5271, -5.5620, -3.3637, -4.6102, -3.6787,\n",
       "        -1.6535, -1.6439, -0.0411, -1.2977,  1.3238,  2.0535,  1.6380,  1.5408,\n",
       "         1.3701,  2.0433,  2.8756,  3.0954,  3.8912,  4.6984,  7.2599,  7.0568,\n",
       "         6.2159,  8.0612,  9.7130, 10.2260,  9.6273,  9.2751, 10.7008, 11.0445,\n",
       "        10.3263, 10.1980, 11.1843, 10.1214, 10.9731, 12.7308, 11.2161, 10.5558])"
      ]
     },
     "execution_count": 13,
     "metadata": {},
     "output_type": "execute_result"
    }
   ],
   "execution_count": 13
  },
  {
   "metadata": {
    "ExecuteTime": {
     "end_time": "2024-05-21T14:55:38.326066Z",
     "start_time": "2024-05-21T14:55:38.322722Z"
    }
   },
   "cell_type": "code",
   "source": [
    "example_tensor = torch.tensor([[2, 4], [6, 8], [10, 12], [14, 16]])\n",
    "example_tensor"
   ],
   "id": "e6b23a83780c6d8b",
   "outputs": [
    {
     "data": {
      "text/plain": [
       "tensor([[ 2,  4],\n",
       "        [ 6,  8],\n",
       "        [10, 12],\n",
       "        [14, 16]])"
      ]
     },
     "execution_count": 14,
     "metadata": {},
     "output_type": "execute_result"
    }
   ],
   "execution_count": 14
  },
  {
   "metadata": {
    "ExecuteTime": {
     "end_time": "2024-05-21T14:55:38.329241Z",
     "start_time": "2024-05-21T14:55:38.326798Z"
    }
   },
   "cell_type": "code",
   "source": [
    "example_tensor.shape"
   ],
   "id": "475b2df538b13e27",
   "outputs": [
    {
     "data": {
      "text/plain": [
       "torch.Size([4, 2])"
      ]
     },
     "execution_count": 15,
     "metadata": {},
     "output_type": "execute_result"
    }
   ],
   "execution_count": 15
  },
  {
   "metadata": {
    "ExecuteTime": {
     "end_time": "2024-05-21T14:55:38.333010Z",
     "start_time": "2024-05-21T14:55:38.329976Z"
    }
   },
   "cell_type": "code",
   "source": [
    "example_tensor[(0, 1, 2, 3), 0]"
   ],
   "id": "f5e854491148d5ec",
   "outputs": [
    {
     "data": {
      "text/plain": [
       "tensor([ 2,  6, 10, 14])"
      ]
     },
     "execution_count": 16,
     "metadata": {},
     "output_type": "execute_result"
    }
   ],
   "execution_count": 16
  },
  {
   "metadata": {
    "ExecuteTime": {
     "end_time": "2024-05-21T14:55:38.336829Z",
     "start_time": "2024-05-21T14:55:38.333733Z"
    }
   },
   "cell_type": "code",
   "source": [
    "example_array = np.array([[0, 1], [2, 3], [0, 4]])\n",
    "example_array"
   ],
   "id": "fc7565bd9437edb6",
   "outputs": [
    {
     "data": {
      "text/plain": [
       "array([[0, 1],\n",
       "       [2, 3],\n",
       "       [0, 4]])"
      ]
     },
     "execution_count": 17,
     "metadata": {},
     "output_type": "execute_result"
    }
   ],
   "execution_count": 17
  },
  {
   "metadata": {
    "ExecuteTime": {
     "end_time": "2024-05-21T14:55:38.340736Z",
     "start_time": "2024-05-21T14:55:38.337612Z"
    }
   },
   "cell_type": "code",
   "source": [
    "np.where(example_array == 0)"
   ],
   "id": "a6f69082ed379761",
   "outputs": [
    {
     "data": {
      "text/plain": [
       "(array([0, 2]), array([0, 0]))"
      ]
     },
     "execution_count": 18,
     "metadata": {},
     "output_type": "execute_result"
    }
   ],
   "execution_count": 18
  },
  {
   "metadata": {
    "ExecuteTime": {
     "end_time": "2024-05-21T14:55:38.458796Z",
     "start_time": "2024-05-21T14:55:38.341511Z"
    }
   },
   "cell_type": "code",
   "source": [
    "fig, ax = plt.subplots(figsize=(10, 10))\n",
    "ax.plot(\n",
    "    data_tensor[np.where(labels == 0)[0], 0],\n",
    "    data_tensor[np.where(labels == 0)[0], 1],\n",
    "    \"bs\",\n",
    ")\n",
    "ax.plot(\n",
    "    data_tensor[np.where(labels == 1)[0], 0],\n",
    "    data_tensor[np.where(labels == 1)[0], 1],\n",
    "    \"go\",\n",
    ")\n",
    "\n",
    "ax.set_xlabel(\"Dimension 1\")\n",
    "ax.set_ylabel(\"Dimension 2\")\n",
    "\n",
    "plt.show()"
   ],
   "id": "6851521ee27d2edb",
   "outputs": [
    {
     "data": {
      "text/plain": [
       "<Figure size 1000x1000 with 1 Axes>"
      ],
      "image/png": "[encoded data removed]"
     },
     "metadata": {},
     "output_type": "display_data"
    }
   ],
   "execution_count": 19
  },
  {
   "metadata": {
    "ExecuteTime": {
     "end_time": "2024-05-21T15:08:32.392023Z",
     "start_time": "2024-05-21T15:08:32.387417Z"
    }
   },
   "cell_type": "code",
   "source": [
    "train_data, test_data, train_labels, test_labels = train_test_split(\n",
    "    data_tensor, labels_tensor, test_size=0.2\n",
    ")\n",
    "\n",
    "train_data = TensorDataset(train_data, train_labels)\n",
    "test_data = TensorDataset(test_data, test_labels)\n",
    "\n",
    "batch_size = 16\n",
    "train_loader = DataLoader(train_data, batch_size=batch_size, shuffle=True)\n",
    "test_loader = DataLoader(test_data, batch_size=test_data.tensors[0].shape[0])"
   ],
   "id": "53b7a0dc11f66fbd",
   "outputs": [],
   "execution_count": 20
  },
  {
   "metadata": {},
   "cell_type": "code",
   "outputs": [],
   "execution_count": null,
   "source": "",
   "id": "3415cd340defe85e"
  }
 ],
 "metadata": {
  "kernelspec": {
   "display_name": "Python 3",
   "language": "python",
   "name": "python3"
  },
  "language_info": {
   "codemirror_mode": {
    "name": "ipython",
    "version": 2
   },
   "file_extension": ".py",
   "mimetype": "text/x-python",
   "name": "python",
   "nbconvert_exporter": "python",
   "pygments_lexer": "ipython2",
   "version": "2.7.6"
  }
 },
 "nbformat": 4,
 "nbformat_minor": 5
}
