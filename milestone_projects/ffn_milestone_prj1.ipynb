{
 "cells": [
  {
   "cell_type": "code",
   "id": "initial_id",
   "metadata": {
    "collapsed": true,
    "ExecuteTime": {
     "end_time": "2024-09-24T13:38:48.268626Z",
     "start_time": "2024-09-24T13:38:46.935911Z"
    }
   },
   "source": [
    "import matplotlib.pyplot as plt\n",
    "import numpy as np\n",
    "import torch\n",
    "import torch.nn as nn\n",
    "from sklearn.model_selection import train_test_split\n",
    "from torch.utils.data import DataLoader, TensorDataset\n",
    "from torchinfo import summary"
   ],
   "outputs": [],
   "execution_count": 1
  },
  {
   "metadata": {
    "ExecuteTime": {
     "end_time": "2024-09-24T13:38:48.283399Z",
     "start_time": "2024-09-24T13:38:48.280419Z"
    }
   },
   "cell_type": "code",
   "source": [
    "data = np.random.randint(-10, 11, (10000, 2))"
   ],
   "id": "84dd904fa6554402",
   "outputs": [],
   "execution_count": 2
  },
  {
   "metadata": {
    "ExecuteTime": {
     "end_time": "2024-09-24T13:38:48.593231Z",
     "start_time": "2024-09-24T13:38:48.391841Z"
    }
   },
   "cell_type": "code",
   "source": [
    "plt.figure(figsize=(12, 6))\n",
    "plt.hist(data, bins=21, label=[\"1\", \"2\"])\n",
    "plt.legend()\n",
    "plt.xticks(np.arange(-10, 11))\n",
    "plt.show()"
   ],
   "id": "b72f491334f40e9e",
   "outputs": [
    {
     "data": {
      "text/plain": [
       "<Figure size 1200x600 with 1 Axes>"
      ],
      "image/png": "[encoded data removed]"
     },
     "metadata": {},
     "output_type": "display_data"
    }
   ],
   "execution_count": 3
  },
  {
   "metadata": {
    "ExecuteTime": {
     "end_time": "2024-09-24T13:38:48.644234Z",
     "start_time": "2024-09-24T13:38:48.640481Z"
    }
   },
   "cell_type": "code",
   "source": [
    "labels = data[:, 0] + data[:, 1]\n",
    "labels.shape"
   ],
   "id": "7562d81694951dcd",
   "outputs": [
    {
     "data": {
      "text/plain": [
       "(10000,)"
      ]
     },
     "execution_count": 4,
     "metadata": {},
     "output_type": "execute_result"
    }
   ],
   "execution_count": 4
  },
  {
   "metadata": {},
   "cell_type": "markdown",
   "source": "# Convert ndarray to torch Tensor",
   "id": "3679f80cbfd5f26f"
  },
  {
   "metadata": {
    "ExecuteTime": {
     "end_time": "2024-09-24T14:15:42.796356Z",
     "start_time": "2024-09-24T14:15:42.792159Z"
    }
   },
   "cell_type": "code",
   "source": [
    "train_data, test_data, train_labels, test_labels = [\n",
    "    torch.tensor(array).float()\n",
    "    for array in train_test_split(data, labels, test_size=0.1)\n",
    "]\n",
    "train_data.shape, test_data.shape, train_labels.shape, test_labels.shape"
   ],
   "id": "61377264593e16dd",
   "outputs": [
    {
     "data": {
      "text/plain": [
       "(torch.Size([9000, 2]),\n",
       " torch.Size([1000, 2]),\n",
       " torch.Size([9000]),\n",
       " torch.Size([1000]))"
      ]
     },
     "execution_count": 19,
     "metadata": {},
     "output_type": "execute_result"
    }
   ],
   "execution_count": 19
  },
  {
   "metadata": {
    "ExecuteTime": {
     "end_time": "2024-09-24T14:15:44.048109Z",
     "start_time": "2024-09-24T14:15:44.044462Z"
    }
   },
   "cell_type": "code",
   "source": [
    "BATCH_SIZE = 32\n",
    "\n",
    "train_dataset = TensorDataset(train_data, train_labels.unsqueeze(dim=1))\n",
    "test_dataset = TensorDataset(test_data, test_labels.unsqueeze(dim=1))\n",
    "\n",
    "train_dataloader = DataLoader(\n",
    "    train_dataset, batch_size=BATCH_SIZE, shuffle=True, drop_last=True, pin_memory=True\n",
    ")\n",
    "test_dataloader = DataLoader(test_dataset, batch_size=len(test_dataset), shuffle=False)"
   ],
   "id": "adf10e3fdb1c75c7",
   "outputs": [],
   "execution_count": 20
  },
  {
   "metadata": {
    "ExecuteTime": {
     "end_time": "2024-09-24T14:15:44.862061Z",
     "start_time": "2024-09-24T14:15:44.845072Z"
    }
   },
   "cell_type": "code",
   "source": [
    "X, y = next(iter(train_dataloader))\n",
    "X.dtype, y.dtype"
   ],
   "id": "bc6570771a3f623a",
   "outputs": [
    {
     "data": {
      "text/plain": [
       "(torch.float32, torch.float32)"
      ]
     },
     "execution_count": 21,
     "metadata": {},
     "output_type": "execute_result"
    }
   ],
   "execution_count": 21
  },
  {
   "metadata": {
    "ExecuteTime": {
     "end_time": "2024-09-24T14:15:48.937530Z",
     "start_time": "2024-09-24T14:15:48.934301Z"
    }
   },
   "cell_type": "code",
   "source": [
    "X.shape, y.shape"
   ],
   "id": "cfc6dd6bee7f4a94",
   "outputs": [
    {
     "data": {
      "text/plain": [
       "(torch.Size([32, 2]), torch.Size([32, 1]))"
      ]
     },
     "execution_count": 22,
     "metadata": {},
     "output_type": "execute_result"
    }
   ],
   "execution_count": 22
  },
  {
   "metadata": {},
   "cell_type": "markdown",
   "source": "# Create the model",
   "id": "b44d199499d0435"
  },
  {
   "metadata": {
    "ExecuteTime": {
     "end_time": "2024-09-24T14:16:00.013643Z",
     "start_time": "2024-09-24T14:16:00.009531Z"
    }
   },
   "cell_type": "code",
   "source": [
    "class FFN(nn.Module):\n",
    "    def __init__(\n",
    "        self,\n",
    "        in_features: int,\n",
    "        out_features: int,\n",
    "        hidden_units: int,\n",
    "        n_hd_layers: int,\n",
    "        *args,\n",
    "        **kwargs,\n",
    "    ):\n",
    "        super().__init__(*args, **kwargs)\n",
    "        self.n_hd_layers = n_hd_layers\n",
    "        self.layers = nn.ModuleDict()\n",
    "        self.layers[\"input\"] = nn.Linear(in_features, hidden_units)\n",
    "\n",
    "        for i in range(self.n_hd_layers):\n",
    "            self.layers[f\"hidden{i}\"] = nn.Linear(hidden_units, hidden_units)\n",
    "\n",
    "        self.layers[\"output\"] = nn.Linear(hidden_units, out_features)\n",
    "\n",
    "    def forward(self, x):\n",
    "        x = torch.relu(self.layers[\"input\"](x))\n",
    "\n",
    "        for i in range(self.n_hd_layers):\n",
    "            x = torch.relu(self.layers[f\"hidden{i}\"](x))\n",
    "\n",
    "        return self.layers[\"output\"](x)"
   ],
   "id": "1d78025df10ee55f",
   "outputs": [],
   "execution_count": 23
  },
  {
   "metadata": {
    "ExecuteTime": {
     "end_time": "2024-09-24T14:16:00.927962Z",
     "start_time": "2024-09-24T14:16:00.922442Z"
    }
   },
   "cell_type": "code",
   "source": [
    "model = FFN(2, 1, 10, 5)\n",
    "summary(\n",
    "    model,\n",
    "    input_size=[BATCH_SIZE, 2],\n",
    "    col_names=[\"input_size\", \"output_size\", \"num_params\"],\n",
    ")"
   ],
   "id": "20947a1ac5ba4013",
   "outputs": [
    {
     "data": {
      "text/plain": [
       "===================================================================================================================\n",
       "Layer (type:depth-idx)                   Input Shape               Output Shape              Param #\n",
       "===================================================================================================================\n",
       "FFN                                      [32, 2]                   [32, 1]                   --\n",
       "├─ModuleDict: 1-1                        --                        --                        --\n",
       "│    └─Linear: 2-1                       [32, 2]                   [32, 10]                  30\n",
       "│    └─Linear: 2-2                       [32, 10]                  [32, 10]                  110\n",
       "│    └─Linear: 2-3                       [32, 10]                  [32, 10]                  110\n",
       "│    └─Linear: 2-4                       [32, 10]                  [32, 10]                  110\n",
       "│    └─Linear: 2-5                       [32, 10]                  [32, 10]                  110\n",
       "│    └─Linear: 2-6                       [32, 10]                  [32, 10]                  110\n",
       "│    └─Linear: 2-7                       [32, 10]                  [32, 1]                   11\n",
       "===================================================================================================================\n",
       "Total params: 591\n",
       "Trainable params: 591\n",
       "Non-trainable params: 0\n",
       "Total mult-adds (M): 0.02\n",
       "===================================================================================================================\n",
       "Input size (MB): 0.00\n",
       "Forward/backward pass size (MB): 0.02\n",
       "Params size (MB): 0.00\n",
       "Estimated Total Size (MB): 0.02\n",
       "==================================================================================================================="
      ]
     },
     "execution_count": 24,
     "metadata": {},
     "output_type": "execute_result"
    }
   ],
   "execution_count": 24
  },
  {
   "metadata": {},
   "cell_type": "markdown",
   "source": "# Train the model",
   "id": "2ca212e525e2f8ac"
  },
  {
   "metadata": {
    "ExecuteTime": {
     "end_time": "2024-09-24T14:35:27.639754Z",
     "start_time": "2024-09-24T14:35:23.884303Z"
    }
   },
   "cell_type": "code",
   "source": [
    "model = FFN(in_features=2, out_features=1, n_hd_layers=5, hidden_units=10)\n",
    "loss_fn = nn.MSELoss()\n",
    "optimizer = torch.optim.Adam(model.parameters(), lr=0.01)\n",
    "\n",
    "epochs = 10\n",
    "losses = np.zeros((epochs, 2))\n",
    "\n",
    "for epoch in range(epochs):\n",
    "    train_batch_loss = np.zeros(len(train_dataloader))\n",
    "    test_batch_loss = np.zeros(len(test_dataloader))\n",
    "\n",
    "    model.train()\n",
    "    for i, (X, y) in enumerate(train_dataloader):\n",
    "        y_hat = model(X)\n",
    "        loss = loss_fn(y_hat, y)\n",
    "\n",
    "        optimizer.zero_grad()\n",
    "        loss.backward()\n",
    "        optimizer.step()\n",
    "\n",
    "        train_batch_loss[i] = loss.item()\n",
    "\n",
    "    model.eval()\n",
    "    with torch.inference_mode():\n",
    "        for i, (X, y) in enumerate(test_dataloader):\n",
    "            y_pred = model(X)\n",
    "            loss = loss_fn(y_pred, y)\n",
    "            test_batch_loss[i] = loss.item()\n",
    "\n",
    "    losses[epoch, 0] = np.mean(train_batch_loss)\n",
    "    losses[epoch, 1] = np.mean(test_batch_loss)"
   ],
   "id": "478f62675f3342b6",
   "outputs": [],
   "execution_count": 34
  },
  {
   "metadata": {
    "ExecuteTime": {
     "end_time": "2024-09-24T14:40:28.408596Z",
     "start_time": "2024-09-24T14:40:28.294729Z"
    }
   },
   "cell_type": "code",
   "source": [
    "fig, ax = plt.subplots(figsize=(10, 6))\n",
    "line1, line2 = ax.plot(losses)\n",
    "ax.legend([line1, line2], [\"train_loss\", \"test_loss\"])\n",
    "ax.set_title(\"Loss per epoch\")\n",
    "ax.set_xlabel(\"Epoch\")\n",
    "ax.set_ylabel(\"Loss\")\n",
    "ax.set_ylim([0, 0.05])\n",
    "plt.show()"
   ],
   "id": "e6597d09b35e1954",
   "outputs": [
    {
     "data": {
      "text/plain": [
       "<Figure size 1000x600 with 1 Axes>"
      ],
      "image/png": "[encoded data removed]"
     },
     "metadata": {},
     "output_type": "display_data"
    }
   ],
   "execution_count": 47
  },
  {
   "metadata": {
    "ExecuteTime": {
     "end_time": "2024-09-24T14:43:42.958157Z",
     "start_time": "2024-09-24T14:43:42.952698Z"
    }
   },
   "cell_type": "code",
   "source": [
    "with torch.inference_mode():\n",
    "    test_data = torch.tensor([-10, 7]).float()\n",
    "    pred = model(test_data)\n",
    "    print(pred)"
   ],
   "id": "f457f716eb66be4c",
   "outputs": [
    {
     "name": "stdout",
     "output_type": "stream",
     "text": [
      "tensor([-3.1084])\n"
     ]
    }
   ],
   "execution_count": 51
  },
  {
   "metadata": {},
   "cell_type": "code",
   "outputs": [],
   "execution_count": null,
   "source": "",
   "id": "ee9965a2b757d966"
  }
 ],
 "metadata": {
  "kernelspec": {
   "display_name": "Python 3",
   "language": "python",
   "name": "python3"
  },
  "language_info": {
   "codemirror_mode": {
    "name": "ipython",
    "version": 2
   },
   "file_extension": ".py",
   "mimetype": "text/x-python",
   "name": "python",
   "nbconvert_exporter": "python",
   "pygments_lexer": "ipython2",
   "version": "2.7.6"
  }
 },
 "nbformat": 4,
 "nbformat_minor": 5
}
